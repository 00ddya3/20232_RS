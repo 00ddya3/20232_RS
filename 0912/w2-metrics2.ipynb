{
 "cells": [
  {
   "cell_type": "code",
   "execution_count": 1,
   "metadata": {},
   "outputs": [],
   "source": [
    "# Created or modifed on Sep 2023\n",
    "# @author: 임일\n",
    "# Metrics"
   ]
  },
  {
   "cell_type": "code",
   "execution_count": 2,
   "metadata": {},
   "outputs": [],
   "source": [
    "def b_metrics1(target, pred):       # 실제, 예측 item을 리스트로 받아서 precision, recall, F1 계산하는 함수\n",
    "    n_target = len(target)          # item 개수 초기화\n",
    "    n_pred = len(pred)\n",
    "    n_correct = len(set(target).intersection(set(pred)))\n",
    "    try:                            # 에러(division by zero 등)가 발생하는 경우를 대비해서\n",
    "        precision = n_correct / n_pred\n",
    "        recall = n_correct / n_target\n",
    "        if (precision == 0 and recall == 0):  # Prevent 'division by zero'\n",
    "            f1 = 0.0\n",
    "        else:\n",
    "            f1 = 2 * (precision * recall) / (precision + recall)\n",
    "        return precision, recall, f1\n",
    "    except:\n",
    "        return 'error'"
   ]
  },
  {
   "cell_type": "code",
   "execution_count": 4,
   "metadata": {},
   "outputs": [
    {
     "name": "stdout",
     "output_type": "stream",
     "text": [
      "(0.5, 0.4, 0.4444444444444445)\n"
     ]
    }
   ],
   "source": [
    "targets = [1, 100, 40, 20, 44]\n",
    "predictions = [2, 100, 30, 44]\n",
    "print(b_metrics1(targets, predictions))"
   ]
  },
  {
   "cell_type": "code",
   "execution_count": 5,
   "metadata": {},
   "outputs": [],
   "source": [
    "def b_metrics2(target, pred, k=0):  # 실제, 예측 item과 k를 받아서 precision, recall, f1계산\n",
    "    n_target = len(target)          # item 개수 초기화\n",
    "    n_pred = len(pred)\n",
    "    n_correct = len(set(target).intersection(set(pred)))\n",
    "    if k > 0:                       # @k\n",
    "        if k > n_pred:              # k가 예측 item 수보다 작은 경우 처리\n",
    "            k = n_pred\n",
    "        pred_k = pred[:k]\n",
    "        n_correct_k = len(set(target).intersection(set(pred_k)))\n",
    "    try:                            # 에러가 발생하는 경우를 대비해서\n",
    "        precision = n_correct / n_pred\n",
    "        recall = n_correct / n_target\n",
    "        if (precision == 0 and recall == 0):  # Prevent 'division by zero'\n",
    "            f1 = 0\n",
    "        else:\n",
    "            f1 = 2 * (precision * recall) / (precision + recall)\n",
    "        if k > 0:\n",
    "            precision_k = n_correct_k / k\n",
    "            recall_k = n_correct_k / n_target\n",
    "            return precision, recall, f1, precision_k, recall_k, k\n",
    "        else:\n",
    "            return precision, recall, f1\n",
    "    except:\n",
    "        return 'error'"
   ]
  },
  {
   "cell_type": "code",
   "execution_count": 6,
   "metadata": {},
   "outputs": [
    {
     "name": "stdout",
     "output_type": "stream",
     "text": [
      "(0.5, 0.4, 0.4444444444444445, 0.3333333333333333, 0.2, 3)\n"
     ]
    }
   ],
   "source": [
    "targets = [1, 100, 40, 20, 44]\n",
    "predictions = [2, 100, 30, 44]\n",
    "print(b_metrics2(targets, predictions, 3))"
   ]
  },
  {
   "cell_type": "code",
   "execution_count": null,
   "metadata": {},
   "outputs": [],
   "source": [
    "def b_metrics(target, pred):        # 실습과제 w2-1 \n",
    "    b_metrics1(targets, predictions)\n",
    "    return \n",
    "\n",
    "targets = [[1, 100, 40, 20, 44, 98], [3, 4, 10, 7]]\n",
    "predictions = [[2, 100, 40, 30, 44], [4, 1, 3, 100]]\n",
    "b_metrics(targets, predictions)"
   ]
  }
 ],
 "metadata": {
  "kernelspec": {
   "display_name": "recsys",
   "language": "python",
   "name": "recsys"
  },
  "language_info": {
   "codemirror_mode": {
    "name": "ipython",
    "version": 3
   },
   "file_extension": ".py",
   "mimetype": "text/x-python",
   "name": "python",
   "nbconvert_exporter": "python",
   "pygments_lexer": "ipython3",
   "version": "3.9.13"
  },
  "orig_nbformat": 4
 },
 "nbformat": 4,
 "nbformat_minor": 2
}
