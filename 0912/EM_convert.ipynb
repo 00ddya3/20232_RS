{
 "cells": [
  {
   "cell_type": "code",
   "execution_count": 18,
   "metadata": {},
   "outputs": [],
   "source": [
    "# Created or modifed on Sep 2022\n",
    "# Author: 임일\n",
    "# w2 EachMovie 연습문제\n",
    "\n",
    "import pandas as pd\n",
    "import sklearn.utils"
   ]
  },
  {
   "cell_type": "code",
   "execution_count": 47,
   "metadata": {},
   "outputs": [
    {
     "name": "stdout",
     "output_type": "stream",
     "text": [
      "(2811983, 5)\n"
     ]
    },
    {
     "data": {
      "text/html": [
       "<div>\n",
       "<style scoped>\n",
       "    .dataframe tbody tr th:only-of-type {\n",
       "        vertical-align: middle;\n",
       "    }\n",
       "\n",
       "    .dataframe tbody tr th {\n",
       "        vertical-align: top;\n",
       "    }\n",
       "\n",
       "    .dataframe thead th {\n",
       "        text-align: right;\n",
       "    }\n",
       "</style>\n",
       "<table border=\"1\" class=\"dataframe\">\n",
       "  <thead>\n",
       "    <tr style=\"text-align: right;\">\n",
       "      <th></th>\n",
       "      <th>Person</th>\n",
       "      <th>Movie_ID</th>\n",
       "      <th>Score</th>\n",
       "      <th>Weight</th>\n",
       "      <th>Modified</th>\n",
       "    </tr>\n",
       "  </thead>\n",
       "  <tbody>\n",
       "    <tr>\n",
       "      <th>0</th>\n",
       "      <td>1</td>\n",
       "      <td>1</td>\n",
       "      <td>0.6</td>\n",
       "      <td>1.0</td>\n",
       "      <td>4/15/96 13:16:00</td>\n",
       "    </tr>\n",
       "    <tr>\n",
       "      <th>1</th>\n",
       "      <td>1</td>\n",
       "      <td>2</td>\n",
       "      <td>0.6</td>\n",
       "      <td>1.0</td>\n",
       "      <td>10/22/96 16:37:31</td>\n",
       "    </tr>\n",
       "    <tr>\n",
       "      <th>2</th>\n",
       "      <td>1</td>\n",
       "      <td>10</td>\n",
       "      <td>0.4</td>\n",
       "      <td>1.0</td>\n",
       "      <td>10/26/96 15:07:36</td>\n",
       "    </tr>\n",
       "    <tr>\n",
       "      <th>3</th>\n",
       "      <td>1</td>\n",
       "      <td>13</td>\n",
       "      <td>0.0</td>\n",
       "      <td>0.2</td>\n",
       "      <td>4/15/96 12:13:36</td>\n",
       "    </tr>\n",
       "    <tr>\n",
       "      <th>4</th>\n",
       "      <td>1</td>\n",
       "      <td>17</td>\n",
       "      <td>0.8</td>\n",
       "      <td>1.0</td>\n",
       "      <td>9/18/96 9:22:08</td>\n",
       "    </tr>\n",
       "  </tbody>\n",
       "</table>\n",
       "</div>"
      ],
      "text/plain": [
       "   Person  Movie_ID  Score  Weight           Modified\n",
       "0       1         1    0.6     1.0   4/15/96 13:16:00\n",
       "1       1         2    0.6     1.0  10/22/96 16:37:31\n",
       "2       1        10    0.4     1.0  10/26/96 15:07:36\n",
       "3       1        13    0.0     0.2   4/15/96 12:13:36\n",
       "4       1        17    0.8     1.0    9/18/96 9:22:08"
      ]
     },
     "execution_count": 47,
     "metadata": {},
     "output_type": "execute_result"
    }
   ],
   "source": [
    "# csv 파일에서 불러오기\n",
    "ratings = pd.read_csv('C:/RecoSys/Data/vote.csv', encoding='utf-8')\n",
    "\n",
    "print(ratings.shape)\n",
    "ratings.head()"
   ]
  },
  {
   "cell_type": "code",
   "execution_count": 48,
   "metadata": {},
   "outputs": [
    {
     "name": "stdout",
     "output_type": "stream",
     "text": [
      "(250000, 5)\n"
     ]
    },
    {
     "data": {
      "text/html": [
       "<div>\n",
       "<style scoped>\n",
       "    .dataframe tbody tr th:only-of-type {\n",
       "        vertical-align: middle;\n",
       "    }\n",
       "\n",
       "    .dataframe tbody tr th {\n",
       "        vertical-align: top;\n",
       "    }\n",
       "\n",
       "    .dataframe thead th {\n",
       "        text-align: right;\n",
       "    }\n",
       "</style>\n",
       "<table border=\"1\" class=\"dataframe\">\n",
       "  <thead>\n",
       "    <tr style=\"text-align: right;\">\n",
       "      <th></th>\n",
       "      <th>user_id</th>\n",
       "      <th>movie_id</th>\n",
       "      <th>rating</th>\n",
       "      <th>Weight</th>\n",
       "      <th>Modified</th>\n",
       "    </tr>\n",
       "  </thead>\n",
       "  <tbody>\n",
       "    <tr>\n",
       "      <th>808831</th>\n",
       "      <td>23411</td>\n",
       "      <td>111</td>\n",
       "      <td>4</td>\n",
       "      <td>1.0</td>\n",
       "      <td>7/8/96 18:00:29</td>\n",
       "    </tr>\n",
       "    <tr>\n",
       "      <th>478221</th>\n",
       "      <td>15597</td>\n",
       "      <td>344</td>\n",
       "      <td>1</td>\n",
       "      <td>1.0</td>\n",
       "      <td>6/10/96 10:58:25</td>\n",
       "    </tr>\n",
       "    <tr>\n",
       "      <th>2208620</th>\n",
       "      <td>59574</td>\n",
       "      <td>79</td>\n",
       "      <td>3</td>\n",
       "      <td>1.0</td>\n",
       "      <td>2/8/97 19:00:14</td>\n",
       "    </tr>\n",
       "    <tr>\n",
       "      <th>1963567</th>\n",
       "      <td>52302</td>\n",
       "      <td>743</td>\n",
       "      <td>2</td>\n",
       "      <td>1.0</td>\n",
       "      <td>12/13/96 11:37:52</td>\n",
       "    </tr>\n",
       "    <tr>\n",
       "      <th>723622</th>\n",
       "      <td>21296</td>\n",
       "      <td>361</td>\n",
       "      <td>1</td>\n",
       "      <td>1.0</td>\n",
       "      <td>7/1/96 18:31:18</td>\n",
       "    </tr>\n",
       "  </tbody>\n",
       "</table>\n",
       "</div>"
      ],
      "text/plain": [
       "         user_id  movie_id  rating  Weight           Modified\n",
       "808831     23411       111       4     1.0    7/8/96 18:00:29\n",
       "478221     15597       344       1     1.0   6/10/96 10:58:25\n",
       "2208620    59574        79       3     1.0    2/8/97 19:00:14\n",
       "1963567    52302       743       2     1.0  12/13/96 11:37:52\n",
       "723622     21296       361       1     1.0    7/1/96 18:31:18"
      ]
     },
     "execution_count": 48,
     "metadata": {},
     "output_type": "execute_result"
    }
   ],
   "source": [
    "#person->user_id, movie_ID->movie_id, Score->rating\n",
    "ratings.columns = ['user_id', 'movie_id', 'rating', 'Weight', 'Modified']\n",
    "\n",
    "#rating 수 변환\n",
    "def changeRating(num) :\n",
    "    if num == 0:\n",
    "        return 1\n",
    "    else :\n",
    "        return int(5 * num)\n",
    "ratings.rating = ratings.rating.map(lambda x : changeRating(x))\n",
    "\n",
    "# 중복 제거\n",
    "ratings = ratings.drop_duplicates(subset=['user_id', 'movie_id'])\n",
    "\n",
    "#random data 추출\n",
    "ratings = sklearn.utils.shuffle(ratings)\n",
    "ratings = ratings.iloc[:250000]\n",
    "\n",
    "print(ratings.shape)\n",
    "ratings.head()"
   ]
  },
  {
   "cell_type": "code",
   "execution_count": 54,
   "metadata": {},
   "outputs": [
    {
     "ename": "AttributeError",
     "evalue": "'DataFrame' object has no attribute 'ratings1'",
     "output_type": "error",
     "traceback": [
      "\u001b[1;31m---------------------------------------------------------------------------\u001b[0m",
      "\u001b[1;31mAttributeError\u001b[0m                            Traceback (most recent call last)",
      "\u001b[1;32mc:\\Users\\김민정\\python_workspace\\20232_RS\\0912\\EM_convert.ipynb Cell 4\u001b[0m line \u001b[0;36m<cell line: 6>\u001b[1;34m()\u001b[0m\n\u001b[0;32m      <a href='vscode-notebook-cell:/c%3A/Users/%EA%B9%80%EB%AF%BC%EC%A0%95/python_workspace/20232_RS/0912/EM_convert.ipynb#W3sZmlsZQ%3D%3D?line=2'>3</a>\u001b[0m ratings1 \u001b[39m=\u001b[39m ratings1[ratings1\u001b[39m>\u001b[39m\u001b[39m10\u001b[39m]\u001b[39m.\u001b[39mreset_index()\n\u001b[0;32m      <a href='vscode-notebook-cell:/c%3A/Users/%EA%B9%80%EB%AF%BC%EC%A0%95/python_workspace/20232_RS/0912/EM_convert.ipynb#W3sZmlsZQ%3D%3D?line=3'>4</a>\u001b[0m \u001b[39m#ratings = ratings.loc[ratings1.user_id]\u001b[39;00m\n\u001b[0;32m      <a href='vscode-notebook-cell:/c%3A/Users/%EA%B9%80%EB%AF%BC%EC%A0%95/python_workspace/20232_RS/0912/EM_convert.ipynb#W3sZmlsZQ%3D%3D?line=4'>5</a>\u001b[0m \u001b[39m#ratings\u001b[39;00m\n\u001b[1;32m----> <a href='vscode-notebook-cell:/c%3A/Users/%EA%B9%80%EB%AF%BC%EC%A0%95/python_workspace/20232_RS/0912/EM_convert.ipynb#W3sZmlsZQ%3D%3D?line=5'>6</a>\u001b[0m ratings \u001b[39m=\u001b[39m ratings\u001b[39m.\u001b[39;49mratings1\u001b[39m.\u001b[39mmap(\u001b[39mlambda\u001b[39;00m x : x \u001b[39min\u001b[39;00m ratings1\u001b[39m.\u001b[39muser_id\u001b[39m.\u001b[39mto_list())\n\u001b[0;32m      <a href='vscode-notebook-cell:/c%3A/Users/%EA%B9%80%EB%AF%BC%EC%A0%95/python_workspace/20232_RS/0912/EM_convert.ipynb#W3sZmlsZQ%3D%3D?line=6'>7</a>\u001b[0m ratings\n",
      "File \u001b[1;32mc:\\Anaconda3\\envs\\recsys\\lib\\site-packages\\pandas\\core\\generic.py:5902\u001b[0m, in \u001b[0;36mNDFrame.__getattr__\u001b[1;34m(self, name)\u001b[0m\n\u001b[0;32m   5895\u001b[0m \u001b[39mif\u001b[39;00m (\n\u001b[0;32m   5896\u001b[0m     name \u001b[39mnot\u001b[39;00m \u001b[39min\u001b[39;00m \u001b[39mself\u001b[39m\u001b[39m.\u001b[39m_internal_names_set\n\u001b[0;32m   5897\u001b[0m     \u001b[39mand\u001b[39;00m name \u001b[39mnot\u001b[39;00m \u001b[39min\u001b[39;00m \u001b[39mself\u001b[39m\u001b[39m.\u001b[39m_metadata\n\u001b[0;32m   5898\u001b[0m     \u001b[39mand\u001b[39;00m name \u001b[39mnot\u001b[39;00m \u001b[39min\u001b[39;00m \u001b[39mself\u001b[39m\u001b[39m.\u001b[39m_accessors\n\u001b[0;32m   5899\u001b[0m     \u001b[39mand\u001b[39;00m \u001b[39mself\u001b[39m\u001b[39m.\u001b[39m_info_axis\u001b[39m.\u001b[39m_can_hold_identifiers_and_holds_name(name)\n\u001b[0;32m   5900\u001b[0m ):\n\u001b[0;32m   5901\u001b[0m     \u001b[39mreturn\u001b[39;00m \u001b[39mself\u001b[39m[name]\n\u001b[1;32m-> 5902\u001b[0m \u001b[39mreturn\u001b[39;00m \u001b[39mobject\u001b[39;49m\u001b[39m.\u001b[39;49m\u001b[39m__getattribute__\u001b[39;49m(\u001b[39mself\u001b[39;49m, name)\n",
      "\u001b[1;31mAttributeError\u001b[0m: 'DataFrame' object has no attribute 'ratings1'"
     ]
    }
   ],
   "source": [
    "#사용자별로 rating 수 확인, 10개 미만인 사용자 제거\n",
    "ratings1 = ratings.groupby(by='user_id')['rating'].count()\n",
    "ratings1 = ratings1[ratings1>10].reset_index()\n",
    "#ratings = ratings.loc[ratings1.user_id]\n",
    "#ratings\n",
    "ratings = ratings.rating.map(lambda x : x in ratings1.user_id.to_list())\n",
    "ratings\n",
    "#ratings.head()"
   ]
  },
  {
   "cell_type": "code",
   "execution_count": null,
   "metadata": {},
   "outputs": [],
   "source": [
    "ratings.to_csv(\"C:\\RecoSys\\Data\\EM_ratings.csv\", encoding='utf-8')"
   ]
  }
 ],
 "metadata": {
  "kernelspec": {
   "display_name": "recsys",
   "language": "python",
   "name": "recsys"
  },
  "language_info": {
   "codemirror_mode": {
    "name": "ipython",
    "version": 3
   },
   "file_extension": ".py",
   "mimetype": "text/x-python",
   "name": "python",
   "nbconvert_exporter": "python",
   "pygments_lexer": "ipython3",
   "version": "3.9.13"
  },
  "orig_nbformat": 4
 },
 "nbformat": 4,
 "nbformat_minor": 2
}
