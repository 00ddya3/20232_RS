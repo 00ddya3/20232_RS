{
 "cells": [
  {
   "cell_type": "code",
   "execution_count": 1,
   "metadata": {},
   "outputs": [],
   "source": [
    "# Created or modifed on Sep 2023\n",
    "# @author: 임일\n",
    "# Metrics"
   ]
  },
  {
   "cell_type": "code",
   "execution_count": 2,
   "metadata": {},
   "outputs": [
    {
     "name": "stdout",
     "output_type": "stream",
     "text": [
      "0.75\n"
     ]
    }
   ],
   "source": [
    "# MAE/MAD 계산\n",
    "def mad(y_true, y_pred):\n",
    "    import numpy as np\n",
    "    return np.mean(abs(np.array(y_true) - np.array(y_pred)))\n",
    "    \n",
    "predictions = [1,0,3,4]\n",
    "targets = [1,2,2,4]\n",
    "mad = mad(targets, predictions)\n",
    "print(mad)"
   ]
  },
  {
   "cell_type": "code",
   "execution_count": 3,
   "metadata": {},
   "outputs": [
    {
     "name": "stdout",
     "output_type": "stream",
     "text": [
      "1.25\n"
     ]
    }
   ],
   "source": [
    "# sklearn으로 MSE 계산\n",
    "from sklearn.metrics import mean_squared_error\n",
    "import numpy as np\n",
    "predictions = [1,0,3,4]\n",
    "targets = [1,2,2,4]\n",
    "mse = mean_squared_error(targets, predictions)\n",
    "print(mse)"
   ]
  },
  {
   "cell_type": "code",
   "execution_count": 4,
   "metadata": {},
   "outputs": [
    {
     "name": "stdout",
     "output_type": "stream",
     "text": [
      "1.118033988749895\n"
     ]
    }
   ],
   "source": [
    "# RMSE 계산\n",
    "rmse = np.sqrt(mse)\n",
    "print(rmse)"
   ]
  },
  {
   "cell_type": "code",
   "execution_count": 5,
   "metadata": {},
   "outputs": [
    {
     "name": "stdout",
     "output_type": "stream",
     "text": [
      "1.118033988749895\n"
     ]
    }
   ],
   "source": [
    "# 직접 RMSE 계산\n",
    "def RMSE(y_true, y_pred):\n",
    "    import numpy as np\n",
    "    return np.sqrt(np.mean((np.array(y_true) - np.array(y_pred))**2))\n",
    "\n",
    "predictions = [1,0,3,4]\n",
    "targets = [1,2,2,4]\n",
    "rmse = RMSE(targets, predictions)\n",
    "print(rmse)"
   ]
  },
  {
   "cell_type": "code",
   "execution_count": null,
   "metadata": {},
   "outputs": [],
   "source": []
  }
 ],
 "metadata": {
  "kernelspec": {
   "display_name": "recsys",
   "language": "python",
   "name": "recsys"
  },
  "language_info": {
   "codemirror_mode": {
    "name": "ipython",
    "version": 3
   },
   "file_extension": ".py",
   "mimetype": "text/x-python",
   "name": "python",
   "nbconvert_exporter": "python",
   "pygments_lexer": "ipython3",
   "version": "3.9.13"
  },
  "orig_nbformat": 4
 },
 "nbformat": 4,
 "nbformat_minor": 2
}
