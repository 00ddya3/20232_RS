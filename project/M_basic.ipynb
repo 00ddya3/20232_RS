{
 "cells": [
  {
   "cell_type": "markdown",
   "metadata": {},
   "source": [
    "***\n",
    "모든 기존 전처리 파일에서 unnamed:0 열 삭제함<br>\n",
    "train 파일에서 Book-Rating 열 삭제함\n",
    "***"
   ]
  },
  {
   "cell_type": "code",
   "execution_count": 17,
   "metadata": {},
   "outputs": [],
   "source": [
    "import re\n",
    "import pandas as pd\n",
    "import numpy as np"
   ]
  },
  {
   "cell_type": "code",
   "execution_count": 56,
   "metadata": {},
   "outputs": [],
   "source": [
    "# 데이터 로드 + 전처리\n",
    "df_user = pd.read_csv('C:/RecoSys/Data/project/PR_users.csv', encoding='cp949')     #columns=[User-ID, Age_cate, state, country]\n",
    "\n",
    "df_item = pd.read_csv('C:/RecoSys/Data/project/PR_books.csv', encoding='cp949')     #columns=[ISBN, Book-Title, Book-Author, Year-Of-Publication, Publisher]\n",
    "df_item['Book-Title'] = df_item['Book-Title'].apply(lambda x : re.sub(r'[^a-z]','', x)) #특수문자 제거\n",
    "df_item['Book-Author'] = df_item['Book-Author'].apply(lambda x : re.sub(r'[^a-z]','', str(x))) #특수문자 제거\n",
    "df_item['Publisher'] = df_item['Publisher'].apply(lambda x : re.sub(r'[^a-z]','', x)) #특수문자 제거\n",
    "\n",
    "df_train1 = pd.read_csv('C:/RecoSys/Data/project/train_1.csv')  #columns=[User-ID, ISBN, Book-Rating]\n",
    "df_train2 = pd.read_csv('C:/RecoSys/Data/project/train_2.csv')\n",
    "df_train3 = pd.read_csv('C:/RecoSys/Data/project/train_3.csv')\n",
    "\n",
    "df_test1 = pd.read_csv('C:/RecoSys/Data/project/test_1.csv')    #columns=[User-ID, ISBN]\n",
    "df_test1_answer = pd.read_csv('C:/RecoSys/Data/project/test_1_answer.csv') #columns=[Book-Rating]\n",
    "df_test2 = pd.read_csv('C:/RecoSys/Data/project/test_2.csv')\n",
    "df_test2_answer = pd.read_csv('C:/RecoSys/Data/project/test_2_answer.csv')\n",
    "df_test3 = pd.read_csv('C:/RecoSys/Data/project/test_3.csv')\n",
    "df_test3_answer = pd.read_csv('C:/RecoSys/Data/project/test_3_answer.csv')\n",
    "\n",
    "# 혹시나 원본 파일로 작업하게 된다면 귀찮지 말라고 남겨둠,,\n",
    "#df.drop(columns='Unnamed: 0', inplace=True)\n",
    "#df.drop(columns=['Unnamed: 0', 'Book-Rating'], inplace=True)"
   ]
  },
  {
   "cell_type": "code",
   "execution_count": 48,
   "metadata": {},
   "outputs": [],
   "source": [
    "def basic(user_id, isbn, rating_matrix, user_mean, item_mean, total_mean):\n",
    "\n",
    "    con1 = isbn in rating_matrix\n",
    "    con2 = user_id in rating_matrix\n",
    "\n",
    "    # 현 item에 대한 본인과 타인의 rating이 있는 경우 -> 타 user의 평점에 현 user의 평가 경향을 고려하여 사용\n",
    "    if con1 & con2 :\n",
    "\n",
    "        user_mean = user_mean[user_id]              # 현 user의 rating 평균\n",
    "        item_mean = item_mean[isbn]                 # 현 item의 rating 평균\n",
    "\n",
    "        movie_ratings = rating_matrix[isbn] # 현 item의 모든 rating 가져오기   \n",
    "        others_mean = user_mean.copy()      # 모든 사용자의 rating 평균 가져오기\n",
    "        \n",
    "        # 현 item에 대한 rating이 없는 user 삭제\n",
    "        none_rating_idx = movie_ratings[movie_ratings.isnull()].index   \n",
    "        movie_ratings = movie_ratings.drop(none_rating_idx)\n",
    "        others_mean = others_mean.drop(none_rating_idx)\n",
    "        \n",
    "        movie_ratings = movie_ratings - others_mean     # 편차 예측치 계산\n",
    "        prediction = user_mean + movie_ratings.mean()   # 예측값 = 사용자 평균 + 편차의 평균\n",
    "\n",
    "    # 현 item에 대한 타 user의 rating만 있는 경우 -> 타 user의 평균 평점 사용\n",
    "    elif con1 :\n",
    "        prediction = item_mean[isbn]\n",
    "    \n",
    "    # 현 user의 타 item에 대한 rating만 있는 경우 -> user의 평균 평점 사용\n",
    "    elif con2 :\n",
    "        prediction = user_mean[user_id]\n",
    "    \n",
    "    # 현 item과 user에 대한 정보가 모두 없는 경우 -> 평균 평점 사용\n",
    "    else :\n",
    "        prediction = total_mean\n",
    "    \n",
    "    return prediction"
   ]
  },
  {
   "cell_type": "code",
   "execution_count": 20,
   "metadata": {},
   "outputs": [],
   "source": [
    "# RMSE 계산을 위한 함수\n",
    "def RMSE(y_true, y_pred):\n",
    "    return np.sqrt(np.mean((np.array(y_true) - np.array(y_pred))**2))"
   ]
  },
  {
   "cell_type": "code",
   "execution_count": 51,
   "metadata": {},
   "outputs": [],
   "source": [
    "def score(df_train, df_test_x, df_test_y) :\n",
    "    \n",
    "    x_train = df_train[df_train['Book-Rating'] > 0]  # explicit rating만 선정\n",
    "    total_mean = x_train['Book-Rating'].mean()  # 모든 user와 item의 평균\n",
    "\n",
    "    rating_matrix = x_train.pivot(values='Book-Rating', index='User-ID', columns='ISBN')\n",
    "    user_mean = rating_matrix.mean(axis=1)    # user 각각의 rating 평균 계산\n",
    "    item_mean = rating_matrix.mean(axis=0)    # item 각각의 rating 평균 계산\n",
    "\n",
    "    id_pairs = zip(df_test_x['User-ID'], df_test_x['ISBN'])\n",
    "    y_pred = np.array([basic(user, isbn, rating_matrix, user_mean, item_mean, total_mean) for (user, isbn) in id_pairs])\n",
    "    y_true = np.array(df_test_y['Book-Rating'])\n",
    "\n",
    "    return RMSE(y_true, y_pred)\n"
   ]
  },
  {
   "cell_type": "code",
   "execution_count": 60,
   "metadata": {},
   "outputs": [
    {
     "name": "stdout",
     "output_type": "stream",
     "text": [
      "1.9032 1.9784 1.9691 => 1.9502\n"
     ]
    }
   ],
   "source": [
    "score1 = score(df_train1, df_test1, df_test1_answer)\n",
    "score2 = score(df_train2, df_test2, df_test2_answer)\n",
    "score3 = score(df_train3, df_test3, df_test3_answer)\n",
    "score4 = (score1 + score2 + score3) / 3\n",
    "\n",
    "print(round(score1,4), round(score2, 4), round(score3, 4), '=>', round(score4, 4))"
   ]
  }
 ],
 "metadata": {
  "kernelspec": {
   "display_name": "myYonlu",
   "language": "python",
   "name": "python3"
  },
  "language_info": {
   "codemirror_mode": {
    "name": "ipython",
    "version": 3
   },
   "file_extension": ".py",
   "mimetype": "text/x-python",
   "name": "python",
   "nbconvert_exporter": "python",
   "pygments_lexer": "ipython3",
   "version": "3.8.5"
  }
 },
 "nbformat": 4,
 "nbformat_minor": 2
}
