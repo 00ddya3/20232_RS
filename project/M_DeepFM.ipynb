{
 "cells": [
  {
   "cell_type": "code",
   "execution_count": 19,
   "metadata": {},
   "outputs": [],
   "source": [
    "import re\n",
    "import os\n",
    "import sys\n",
    "import joblib\n",
    "\n",
    "import ast\n",
    "import numpy as np\n",
    "import pandas as pd\n",
    "\n",
    "import tensorflow as tf"
   ]
  },
  {
   "cell_type": "code",
   "execution_count": 3,
   "metadata": {},
   "outputs": [],
   "source": [
    "# 데이터 로드 + 전처리\n",
    "df_user = pd.read_csv('C:/RecoSys/Data/project/PR_users.csv', encoding='cp949')     #columns=[User-ID, Age_cate, state, country]\n",
    "\n",
    "df_item = pd.read_csv('C:/RecoSys/Data/project/PR_books.csv', encoding='cp949')     #columns=[ISBN, Book-Title, Book-Author, Year-Of-Publication, Publisher]\n",
    "df_item['Book-Title'] = df_item['Book-Title'].apply(lambda x : re.sub(r'[^a-z \\s{0,}]','', x)) #특수문자 제거\n",
    "df_item['Book-Author'] = df_item['Book-Author'].apply(lambda x : re.sub(r'[^a-z \\s{0,}]','', str(x))) #특수문자 제거\n",
    "df_item['Publisher'] = df_item['Publisher'].apply(lambda x : re.sub(r'[^a-z \\s{0,}]','', x)) #특수문자 제거\n",
    "\n",
    "df_train1 = pd.read_csv('C:/RecoSys/Data/project/train_1.csv')  #columns=[User-ID, ISBN, Book-Rating]\n",
    "df_train2 = pd.read_csv('C:/RecoSys/Data/project/train_2.csv')\n",
    "df_train3 = pd.read_csv('C:/RecoSys/Data/project/train_3.csv')\n",
    "\n",
    "df_test1 = pd.read_csv('C:/RecoSys/Data/project/test_1.csv')    #columns=[User-ID, ISBN]\n",
    "df_test1_answer = pd.read_csv('C:/RecoSys/Data/project/test_1_answer.csv') #columns=[Book-Rating]\n",
    "df_test2 = pd.read_csv('C:/RecoSys/Data/project/test_2.csv')\n",
    "df_test2_answer = pd.read_csv('C:/RecoSys/Data/project/test_2_answer.csv')\n",
    "df_test3 = pd.read_csv('C:/RecoSys/Data/project/test_3.csv')\n",
    "df_test3_answer = pd.read_csv('C:/RecoSys/Data/project/test_3_answer.csv')\n",
    "\n",
    "# 혹시나 원본 파일로 작업하게 된다면 귀찮지 말라고 남겨둠,,\n",
    "#df.drop(columns='Unnamed: 0', inplace=True)\n",
    "#df.drop(columns=['Unnamed: 0', 'Book-Rating'], inplace=True)"
   ]
  },
  {
   "cell_type": "code",
   "execution_count": 4,
   "metadata": {},
   "outputs": [
    {
     "data": {
      "text/html": [
       "<div>\n",
       "<style scoped>\n",
       "    .dataframe tbody tr th:only-of-type {\n",
       "        vertical-align: middle;\n",
       "    }\n",
       "\n",
       "    .dataframe tbody tr th {\n",
       "        vertical-align: top;\n",
       "    }\n",
       "\n",
       "    .dataframe thead th {\n",
       "        text-align: right;\n",
       "    }\n",
       "</style>\n",
       "<table border=\"1\" class=\"dataframe\">\n",
       "  <thead>\n",
       "    <tr style=\"text-align: right;\">\n",
       "      <th></th>\n",
       "      <th>User-ID</th>\n",
       "      <th>ISBN</th>\n",
       "      <th>Book-Title</th>\n",
       "      <th>Book-Author</th>\n",
       "      <th>Year-Of-Publication</th>\n",
       "      <th>Publisher</th>\n",
       "      <th>Age_cate</th>\n",
       "      <th>state</th>\n",
       "      <th>country</th>\n",
       "      <th>Book-Rating</th>\n",
       "    </tr>\n",
       "  </thead>\n",
       "  <tbody>\n",
       "    <tr>\n",
       "      <th>0</th>\n",
       "      <td>101606</td>\n",
       "      <td>1551103982</td>\n",
       "      <td>thecyclingadventuresofcoconutheadanorthamerica...</td>\n",
       "      <td>tedschredd</td>\n",
       "      <td>1900</td>\n",
       "      <td>graphicartscenterpubco</td>\n",
       "      <td>30-39</td>\n",
       "      <td>ontario</td>\n",
       "      <td>canada</td>\n",
       "      <td>7</td>\n",
       "    </tr>\n",
       "    <tr>\n",
       "      <th>1</th>\n",
       "      <td>189334</td>\n",
       "      <td>013022393X</td>\n",
       "      <td>allthebestsaladsandsaladdressings</td>\n",
       "      <td>jwarner</td>\n",
       "      <td>1911</td>\n",
       "      <td>prenticehalldirect</td>\n",
       "      <td>40-49</td>\n",
       "      <td>ontario</td>\n",
       "      <td>canada</td>\n",
       "      <td>9</td>\n",
       "    </tr>\n",
       "    <tr>\n",
       "      <th>2</th>\n",
       "      <td>198711</td>\n",
       "      <td>030758013X</td>\n",
       "      <td>assortedsmalltraypuzzles</td>\n",
       "      <td>golden</td>\n",
       "      <td>1920</td>\n",
       "      <td>goldenbooks</td>\n",
       "      <td>60-69</td>\n",
       "      <td>minnesota</td>\n",
       "      <td>usa</td>\n",
       "      <td>0</td>\n",
       "    </tr>\n",
       "    <tr>\n",
       "      <th>3</th>\n",
       "      <td>158127</td>\n",
       "      <td>082493069X</td>\n",
       "      <td>grillandbarbecuecooking</td>\n",
       "      <td>idealspublicationsinc</td>\n",
       "      <td>1920</td>\n",
       "      <td>idealspublications</td>\n",
       "      <td>40-49</td>\n",
       "      <td>georgia</td>\n",
       "      <td>usa</td>\n",
       "      <td>0</td>\n",
       "    </tr>\n",
       "    <tr>\n",
       "      <th>4</th>\n",
       "      <td>91203</td>\n",
       "      <td>684717603</td>\n",
       "      <td>thegreatgatsbyscribnerclassic</td>\n",
       "      <td>fscottfritzgerald</td>\n",
       "      <td>1920</td>\n",
       "      <td>scribnerpaperfiction</td>\n",
       "      <td>30-39</td>\n",
       "      <td>scotland</td>\n",
       "      <td>united kingdom</td>\n",
       "      <td>0</td>\n",
       "    </tr>\n",
       "  </tbody>\n",
       "</table>\n",
       "</div>"
      ],
      "text/plain": [
       "   User-ID        ISBN                                         Book-Title  \\\n",
       "0   101606  1551103982  thecyclingadventuresofcoconutheadanorthamerica...   \n",
       "1   189334  013022393X                  allthebestsaladsandsaladdressings   \n",
       "2   198711  030758013X                           assortedsmalltraypuzzles   \n",
       "3   158127  082493069X                            grillandbarbecuecooking   \n",
       "4    91203   684717603                      thegreatgatsbyscribnerclassic   \n",
       "\n",
       "             Book-Author  Year-Of-Publication               Publisher  \\\n",
       "0             tedschredd                 1900  graphicartscenterpubco   \n",
       "1                jwarner                 1911      prenticehalldirect   \n",
       "2                 golden                 1920             goldenbooks   \n",
       "3  idealspublicationsinc                 1920      idealspublications   \n",
       "4      fscottfritzgerald                 1920    scribnerpaperfiction   \n",
       "\n",
       "  Age_cate      state         country  Book-Rating  \n",
       "0    30-39    ontario          canada            7  \n",
       "1    40-49    ontario          canada            9  \n",
       "2    60-69  minnesota             usa            0  \n",
       "3    40-49    georgia             usa            0  \n",
       "4    30-39   scotland  united kingdom            0  "
      ]
     },
     "execution_count": 4,
     "metadata": {},
     "output_type": "execute_result"
    }
   ],
   "source": [
    "df_train = pd.merge(df_user, df_train1, on='User-ID', how='inner')\n",
    "df_train = pd.merge(df_item, df_train, on = 'ISBN', how='inner')\n",
    "df_train = df_train[['User-ID', 'ISBN', \"Book-Title\", 'Book-Author', 'Year-Of-Publication', 'Publisher',\n",
    "                     'Age_cate', 'state', 'country', 'Book-Rating']]\n",
    "df_train.head()"
   ]
  },
  {
   "cell_type": "code",
   "execution_count": 5,
   "metadata": {},
   "outputs": [
    {
     "data": {
      "text/plain": [
       "(['User-ID',\n",
       "  'ISBN',\n",
       "  'Book-Title',\n",
       "  'Book-Author',\n",
       "  'Publisher',\n",
       "  'Age_cate',\n",
       "  'state',\n",
       "  'country',\n",
       "  'Year-Of-Publication',\n",
       "  'Book-Rating'],\n",
       " 10)"
      ]
     },
     "execution_count": 5,
     "metadata": {},
     "output_type": "execute_result"
    }
   ],
   "source": [
    "str_features = ['User-ID', 'ISBN', \"Book-Title\", 'Book-Author', 'Publisher', 'Age_cate', 'state', 'country']\n",
    "int_features = ['Year-Of-Publication']\n",
    "label_feature = ['Book-Rating']\n",
    "feature_names = str_features + int_features + label_feature\n",
    "feature_names, len(feature_names)"
   ]
  },
  {
   "cell_type": "code",
   "execution_count": 21,
   "metadata": {},
   "outputs": [
    {
     "ename": "ImportError",
     "evalue": "cannot import name 'Adam' from 'tensorflow.python.keras.optimizers' (c:\\Anaconda3\\envs\\myYonlu\\lib\\site-packages\\tensorflow\\python\\keras\\optimizers.py)",
     "output_type": "error",
     "traceback": [
      "\u001b[1;31m---------------------------------------------------------------------------\u001b[0m",
      "\u001b[1;31mImportError\u001b[0m                               Traceback (most recent call last)",
      "\u001b[1;32mc:\\Users\\김민정\\python_workspace\\20232_RS\\project\\M_DeepFM.ipynb Cell 6\u001b[0m line \u001b[0;36m7\n\u001b[0;32m      <a href='vscode-notebook-cell:/c%3A/Users/%EA%B9%80%EB%AF%BC%EC%A0%95/python_workspace/20232_RS/project/M_DeepFM.ipynb#X13sZmlsZQ%3D%3D?line=4'>5</a>\u001b[0m \u001b[39mfrom\u001b[39;00m \u001b[39mtensorflow\u001b[39;00m\u001b[39m.\u001b[39;00m\u001b[39mpython\u001b[39;00m\u001b[39m.\u001b[39;00m\u001b[39mkeras\u001b[39;00m \u001b[39mimport\u001b[39;00m layers\n\u001b[0;32m      <a href='vscode-notebook-cell:/c%3A/Users/%EA%B9%80%EB%AF%BC%EC%A0%95/python_workspace/20232_RS/project/M_DeepFM.ipynb#X13sZmlsZQ%3D%3D?line=5'>6</a>\u001b[0m \u001b[39mfrom\u001b[39;00m \u001b[39mtensorflow\u001b[39;00m\u001b[39m.\u001b[39;00m\u001b[39mpython\u001b[39;00m\u001b[39m.\u001b[39;00m\u001b[39mkeras\u001b[39;00m\u001b[39m.\u001b[39;00m\u001b[39mlayers\u001b[39;00m \u001b[39mimport\u001b[39;00m Dense\n\u001b[1;32m----> <a href='vscode-notebook-cell:/c%3A/Users/%EA%B9%80%EB%AF%BC%EC%A0%95/python_workspace/20232_RS/project/M_DeepFM.ipynb#X13sZmlsZQ%3D%3D?line=6'>7</a>\u001b[0m \u001b[39mfrom\u001b[39;00m \u001b[39mtensorflow\u001b[39;00m\u001b[39m.\u001b[39;00m\u001b[39mpython\u001b[39;00m\u001b[39m.\u001b[39;00m\u001b[39mkeras\u001b[39;00m\u001b[39m.\u001b[39;00m\u001b[39moptimizers\u001b[39;00m \u001b[39mimport\u001b[39;00m Adam\n\u001b[0;32m      <a href='vscode-notebook-cell:/c%3A/Users/%EA%B9%80%EB%AF%BC%EC%A0%95/python_workspace/20232_RS/project/M_DeepFM.ipynb#X13sZmlsZQ%3D%3D?line=7'>8</a>\u001b[0m \u001b[39mfrom\u001b[39;00m \u001b[39mtensorflow\u001b[39;00m\u001b[39m.\u001b[39;00m\u001b[39mpython\u001b[39;00m\u001b[39m.\u001b[39;00m\u001b[39mkeras\u001b[39;00m\u001b[39m.\u001b[39;00m\u001b[39mlayers\u001b[39;00m \u001b[39mimport\u001b[39;00m Input, Embedding, Reshape, Add\n\u001b[0;32m      <a href='vscode-notebook-cell:/c%3A/Users/%EA%B9%80%EB%AF%BC%EC%A0%95/python_workspace/20232_RS/project/M_DeepFM.ipynb#X13sZmlsZQ%3D%3D?line=8'>9</a>\u001b[0m \u001b[39mfrom\u001b[39;00m \u001b[39mtensorflow\u001b[39;00m\u001b[39m.\u001b[39;00m\u001b[39mpython\u001b[39;00m\u001b[39m.\u001b[39;00m\u001b[39mkeras\u001b[39;00m\u001b[39m.\u001b[39;00m\u001b[39mlayers\u001b[39;00m \u001b[39mimport\u001b[39;00m Flatten, merge, Lambda\n",
      "\u001b[1;31mImportError\u001b[0m: cannot import name 'Adam' from 'tensorflow.python.keras.optimizers' (c:\\Anaconda3\\envs\\myYonlu\\lib\\site-packages\\tensorflow\\python\\keras\\optimizers.py)"
     ]
    }
   ],
   "source": [
    "import numpy as np\n",
    "import pandas as pd\n",
    "import tensorflow as tf\n",
    "import tensorflow.python.keras.backend as K\n",
    "from tensorflow.python.keras import layers\n",
    "from tensorflow.python.keras.layers import Dense\n",
    "from tensorflow.python.keras.optimizers import Adam\n",
    "from tensorflow.python.keras.layers import Input, Embedding, Reshape, Add\n",
    "from tensorflow.python.keras.layers import Flatten, merge, Lambda\n",
    "from tensorflow.python.keras.models import Model\n",
    "from tensorflow.python.keras.utils.vis_utils import plot_model\n",
    "from sklearn.preprocessing import OneHotEncoder, StandardScaler\n",
    "from sklearn.metrics import accuracy_score\n",
    "import random"
   ]
  },
  {
   "cell_type": "code",
   "execution_count": null,
   "metadata": {},
   "outputs": [],
   "source": []
  }
 ],
 "metadata": {
  "kernelspec": {
   "display_name": "myYonlu",
   "language": "python",
   "name": "python3"
  },
  "language_info": {
   "codemirror_mode": {
    "name": "ipython",
    "version": 3
   },
   "file_extension": ".py",
   "mimetype": "text/x-python",
   "name": "python",
   "nbconvert_exporter": "python",
   "pygments_lexer": "ipython3",
   "version": "3.8.5"
  }
 },
 "nbformat": 4,
 "nbformat_minor": 2
}
