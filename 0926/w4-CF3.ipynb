{
 "cells": [
  {
   "cell_type": "code",
   "execution_count": 1,
   "metadata": {},
   "outputs": [],
   "source": [
    "# Created or modified on Sep 2023\n",
    "# Author: 임일\n",
    "# IBCF\n",
    "\n",
    "import numpy as np\n",
    "import pandas as pd"
   ]
  },
  {
   "cell_type": "code",
   "execution_count": 2,
   "metadata": {},
   "outputs": [],
   "source": [
    "# Read rating data\n",
    "r_cols = ['user_id', 'movie_id', 'rating', 'timestamp']\n",
    "ratings = pd.read_csv('C:/RecoSys/Data/u.data', names=r_cols,  sep='\\t',encoding='latin-1')\n",
    "ratings = ratings.drop('timestamp', axis=1)\n",
    "\n",
    "from sklearn.model_selection import train_test_split"
   ]
  },
  {
   "cell_type": "code",
   "execution_count": 3,
   "metadata": {},
   "outputs": [],
   "source": [
    "# Rating 데이터를 test, train으로 나누고 train을 full matrix로 변환\n",
    "x = ratings.copy()\n",
    "y = ratings['user_id'] \n",
    "x_train, x_test, y_train, y_test = train_test_split(x, y, test_size=0.25, stratify=y, random_state=12)\n",
    "rating_matrix_t = x_train.pivot(values='rating', index='movie_id', columns='user_id')   #user based에 쓰인 데이터와 transpose"
   ]
  },
  {
   "cell_type": "code",
   "execution_count": 4,
   "metadata": {},
   "outputs": [],
   "source": [
    "# RMSE 계산을 위한 함수\n",
    "def RMSE(y_true, y_pred):\n",
    "    return np.sqrt(np.mean((np.array(y_true) - np.array(y_pred))**2))\n",
    "\n",
    "def score(model):\n",
    "    id_pairs = zip(x_test['user_id'], x_test['movie_id'])\n",
    "    y_pred = np.array([model(user, movie) for (user, movie) in id_pairs])\n",
    "    y_true = np.array(x_test['rating'])\n",
    "    return RMSE(y_true, y_pred)"
   ]
  },
  {
   "cell_type": "code",
   "execution_count": 5,
   "metadata": {},
   "outputs": [],
   "source": [
    "# 아이템 pair의 Cosine similarities 계산\n",
    "from sklearn.metrics.pairwise import cosine_similarity\n",
    "matrix_dummy = rating_matrix_t.copy().fillna(0)\n",
    "item_similarity = cosine_similarity(matrix_dummy, matrix_dummy)\n",
    "item_similarity = pd.DataFrame(item_similarity, index=rating_matrix_t.index, columns=rating_matrix_t.index)"
   ]
  },
  {
   "cell_type": "code",
   "execution_count": 14,
   "metadata": {},
   "outputs": [],
   "source": [
    "def ibcf(user_id, movie_id):\n",
    "    import numpy as np\n",
    "    if user_id in rating_matrix_t:          # 사용자가 train set에 있는지 확인\n",
    "        if movie_id in item_similarity:     # 현재 영화가 train set에 있는지 확인\n",
    "            # 현재 영화와 다른 영화의 similarity 값 가져오기\n",
    "            sim_scores = item_similarity[movie_id]\n",
    "            # 현 사용자의 모든 rating 값 가져오기\n",
    "            user_rating = rating_matrix_t[user_id]\n",
    "            # 현 사용자가 평가하지 않은 영화 index 가져오기\n",
    "            non_rating_idx = user_rating[user_rating.isnull()].index\n",
    "            # 현 사용자가 평가하지 않은 영화 제거\n",
    "            user_rating = user_rating.dropna()\n",
    "            # 현 사용자가 평가하지 않은 영화의 similarity 값 제거\n",
    "            sim_scores = sim_scores.drop(non_rating_idx)\n",
    "            # 현 영화에 대한 사용자의 예상 rating 계산, 가중치는 현 영화와 사용자가 평가한 영화의 유사도\n",
    "            mean_rating = np.dot(sim_scores, user_rating) / sim_scores.sum()\n",
    "\n",
    "            if sim_scores.sum() >0 :\n",
    "                mean_rating =np.dot(sim_scores, user_rating) / sim_scores.sum()\n",
    "        else:\n",
    "            mean_rating = 3.0\n",
    "    else:\n",
    "        mean_rating = 3.0\n",
    "    return mean_rating"
   ]
  },
  {
   "cell_type": "code",
   "execution_count": 10,
   "metadata": {},
   "outputs": [
    {
     "data": {
      "text/plain": [
       "0.9747271766533485"
      ]
     },
     "execution_count": 10,
     "metadata": {},
     "output_type": "execute_result"
    }
   ],
   "source": [
    "# 정확도 계산\n",
    "#score(ibcf)\n",
    "\n",
    "def ibcf_knn(user_id, movie_id, neighbor_size=20):\n",
    "    import numpy as np\n",
    "    if user_id in rating_matrix_t:          # 사용자가 train set에 있는지 확인\n",
    "        if movie_id in item_similarity:     # 현재 영화가 train set에 있는지 확인\n",
    "            # 현재 영화와 다른 영화의 similarity 값 가져오기\n",
    "            sim_scores = item_similarity[movie_id]\n",
    "            # 현 사용자의 모든 rating 값 가져오기\n",
    "            user_rating = rating_matrix_t[user_id]\n",
    "            # 현 사용자가 평가하지 않은 영화 index 가져오기\n",
    "            non_rating_idx = user_rating[user_rating.isnull()].index\n",
    "            # 현 사용자가 평가하지 않은 영화 제거\n",
    "            user_rating = user_rating.dropna()\n",
    "            # 현 사용자가 평가하지 않은 영화의 similarity 값 제거\n",
    "            sim_scores = sim_scores.drop(non_rating_idx)\n",
    "            if neighbor_size == 0:               # Neighbor size가 지정되지 않은 경우\n",
    "                # 현 영화에 대한 사용자의 예상 rating 계산, 가중치는 현 영화와 사용자가 평가한 영화의 유사도\n",
    "                mean_rating = np.dot(sim_scores, user_rating) / sim_scores.sum()\n",
    "            else:                                # Neighbor size가 지정된 경우\n",
    "                # 지정된 neighbor size 값과 현 사용자가 평가한 영화 수 중 작은 것으로 결정\n",
    "                neighbor_size = min(neighbor_size, len(user_rating))\n",
    "                # array로 바꾸기 (argsort를 사용하기 위함)\n",
    "                sim_scores = np.array(sim_scores)\n",
    "                user_rating = np.array(user_rating)\n",
    "                # 유사도를 순서대로 정렬\n",
    "                movie_idx = np.argsort(sim_scores)\n",
    "                # 유사도를 neighbor size만큼 받기\n",
    "                sim_scores = sim_scores[movie_idx][-neighbor_size:]\n",
    "                # 영화 rating을 neighbor size만큼 받기\n",
    "                user_rating = user_rating[movie_idx][-neighbor_size:]\n",
    "                # 최종 예측값 계산 \n",
    "                mean_rating = np.dot(sim_scores, user_rating) / sim_scores.sum()\n",
    "        else:\n",
    "            mean_rating = 3.0\n",
    "    else:\n",
    "        mean_rating = 3.0\n",
    "    return mean_rating\n",
    "\n",
    "# 정확도 계산\n",
    "score(ibcf_knn)"
   ]
  },
  {
   "cell_type": "code",
   "execution_count": 11,
   "metadata": {},
   "outputs": [],
   "source": [
    "###################### 추천하기 ######################\n",
    "# 추천을 위한 데이터 읽기 (추천을 위해서는 전체 데이터를 읽어야 함)\n",
    "import pandas as pd\n",
    "r_cols = ['user_id', 'movie_id', 'rating', 'timestamp']\n",
    "ratings = pd.read_csv('C:/RecoSys/Data/u.data', names=r_cols,  sep='\\t',encoding='latin-1')\n",
    "ratings = ratings.drop('timestamp', axis=1)\n",
    "rating_matrix_t = ratings.pivot(values='rating', index='movie_id', columns='user_id')\n",
    "\n",
    "# 영화 제목 가져오기\n",
    "i_cols = ['movie_id', 'title', 'release date', 'video release date', 'IMDB URL', \n",
    "          'unknown', 'Action', 'Adventure', 'Animation', 'Children\\'s', 'Comedy', \n",
    "          'Crime', 'Documentary', 'Drama', 'Fantasy', 'Film-Noir', 'Horror', \n",
    "          'Musical', 'Mystery', 'Romance', 'Sci-Fi', 'Thriller', 'War', 'Western']\n",
    "movies = pd.read_csv('C:/RecoSys/Data/u.item', sep='|', names=i_cols, encoding='latin-1')\n",
    "movies = movies[['movie_id', 'title']]\n",
    "movies = movies.set_index('movie_id')"
   ]
  },
  {
   "cell_type": "code",
   "execution_count": 12,
   "metadata": {},
   "outputs": [],
   "source": [
    "# Cosine similarity 계산\n",
    "from sklearn.metrics.pairwise import cosine_similarity\n",
    "matrix_dummy = rating_matrix_t.copy().fillna(0)\n",
    "item_similarity = cosine_similarity(matrix_dummy, matrix_dummy)\n",
    "item_similarity = pd.DataFrame(item_similarity, index=rating_matrix_t.index, columns=rating_matrix_t.index)"
   ]
  },
  {
   "cell_type": "code",
   "execution_count": 13,
   "metadata": {},
   "outputs": [
    {
     "data": {
      "text/plain": [
       "movie_id\n",
       "1122                  They Made Me a Criminal (1939)\n",
       "1593                       Death in Brunswick (1991)\n",
       "1674                               Mamma Roma (1962)\n",
       "1619                          All Things Fair (1996)\n",
       "1557                              Yankee Zulu (1994)\n",
       "1570                          Quartier Mozart (1992)\n",
       "1559                       Hostile Intentions (1994)\n",
       "1561      Tigrero: A Film That Was Never Made (1994)\n",
       "1562    Eye of Vichy, The (Oeil de Vichy, L') (1993)\n",
       "1563          Promise, The (Versprechen, Das) (1994)\n",
       "1564                     To Cross the Rubicon (1991)\n",
       "1565                                    Daens (1992)\n",
       "1566                 Man from Down Under, The (1943)\n",
       "1567                                  Careful (1992)\n",
       "1568                    Vermont Is For Lovers (1992)\n",
       "1569        Vie est belle, La (Life is Rosey) (1987)\n",
       "1572                  Wend Kuuni (God's Gift) (1982)\n",
       "1571       Touki Bouki (Journey of the Hyena) (1973)\n",
       "1546                         Shadows (Cienie) (1988)\n",
       "1587                   Terror in a Texas Town (1958)\n",
       "Name: title, dtype: object"
      ]
     },
     "execution_count": 13,
     "metadata": {},
     "output_type": "execute_result"
    }
   ],
   "source": [
    "# 추천하기\n",
    "def recommender(user, n_items=10):\n",
    "    # 현재 사용자의 모든 아이템에 대한 예상 평점 계산\n",
    "    predictions = []\n",
    "    rated_index = rating_matrix_t[user][rating_matrix_t[user] > 0].index     # 이미 평가한 영화 확인\n",
    "    items = rating_matrix_t[user].drop(rated_index)\n",
    "    for item in items.index:\n",
    "        predictions.append(ibcf(user, item))                                 # 예상평점 계산\n",
    "    recommendations = pd.Series(data=predictions, index=items.index, dtype=float)\n",
    "    recommendations = recommendations.sort_values(ascending=False)[:n_items] # 예상평점이 가장 높은 영화 선택\n",
    "    recommended_items = movies.loc[recommendations.index]['title']\n",
    "    return recommended_items\n",
    "\n",
    "# 영화 추천 함수 부르기\n",
    "recommender(2, 20)\n"
   ]
  },
  {
   "cell_type": "code",
   "execution_count": null,
   "metadata": {},
   "outputs": [],
   "source": []
  }
 ],
 "metadata": {
  "kernelspec": {
   "display_name": "myYonlu",
   "language": "python",
   "name": "python3"
  },
  "language_info": {
   "codemirror_mode": {
    "name": "ipython",
    "version": 3
   },
   "file_extension": ".py",
   "mimetype": "text/x-python",
   "name": "python",
   "nbconvert_exporter": "python",
   "pygments_lexer": "ipython3",
   "version": "3.8.5"
  },
  "orig_nbformat": 4
 },
 "nbformat": 4,
 "nbformat_minor": 2
}
