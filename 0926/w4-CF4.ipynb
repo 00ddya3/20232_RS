{
 "cells": [
  {
   "cell_type": "code",
   "execution_count": 1,
   "metadata": {},
   "outputs": [],
   "source": [
    "# Created or modified on Sep 2023\n",
    "# Author: 임일\n",
    "# Bias-from-mean CF\n",
    "\n",
    "import pandas as pd\n",
    "import numpy as np"
   ]
  },
  {
   "cell_type": "code",
   "execution_count": 2,
   "metadata": {},
   "outputs": [],
   "source": [
    "# Read rating data\n",
    "r_cols = ['user_id', 'movie_id', 'rating', 'timestamp']\n",
    "ratings = pd.read_csv('C:/RecoSys/Data/u.data', names=r_cols,  sep='\\t',encoding='latin-1')\n",
    "ratings = ratings.drop('timestamp', axis=1)\n",
    "\n",
    "# Rating 데이터를 test, train으로 나누고 train을 full matrix로 변환\n",
    "from sklearn.model_selection import train_test_split\n",
    "x = ratings.copy()\n",
    "y = ratings['user_id']\n",
    "x_train, x_test, y_train, y_test = train_test_split(x, y, test_size=0.25, stratify=y, random_state=12)\n",
    "rating_matrix = x_train.pivot(values='rating', index='user_id', columns='movie_id')"
   ]
  },
  {
   "cell_type": "code",
   "execution_count": 3,
   "metadata": {},
   "outputs": [],
   "source": [
    "# Read rating data\n",
    "r_cols = ['user_id', 'movie_id', 'rating', 'timestamp']\n",
    "ratings = pd.read_csv('C:/RecoSys/Data/u.data', names=r_cols,  sep='\\t',encoding='latin-1')\n",
    "ratings = ratings.drop('timestamp', axis=1)\n",
    "\n",
    "# Rating 데이터를 test, train으로 나누고 train을 full matrix로 변환\n",
    "from sklearn.model_selection import train_test_split\n",
    "x = ratings.copy()\n",
    "y = ratings['user_id']\n",
    "x_train, x_test, y_train, y_test = train_test_split(x, y, test_size=0.25, stratify=y, random_state=12)\n",
    "rating_matrix = x_train.pivot(values='rating', index='user_id', columns='movie_id')"
   ]
  },
  {
   "cell_type": "code",
   "execution_count": 9,
   "metadata": {},
   "outputs": [],
   "source": [
    "# RMSE 계산을 위한 함수\n",
    "def RMSE(y_true, y_pred):\n",
    "    return np.sqrt(np.mean((np.array(y_true) - np.array(y_pred))**2))\n",
    "\n",
    "def score(model):\n",
    "    id_pairs = zip(x_test['user_id'], x_test['movie_id'])\n",
    "    y_pred = np.array([model(user, movie) for (user, movie) in id_pairs])\n",
    "    y_true = np.array(x_test['rating'])\n",
    "    return RMSE(y_true, y_pred)"
   ]
  },
  {
   "cell_type": "code",
   "execution_count": 7,
   "metadata": {},
   "outputs": [],
   "source": [
    "# 모든 가능한 사용자 pair의 Cosine similarities 계산\n",
    "from sklearn.metrics.pairwise import cosine_similarity\n",
    "matrix_dummy = rating_matrix.copy().fillna(0)\n",
    "user_similarity = cosine_similarity(matrix_dummy, matrix_dummy)\n",
    "user_similarity = pd.DataFrame(user_similarity, index=rating_matrix.index, columns=rating_matrix.index)\n",
    "\n",
    "# 모든 user의 rating 평균 계산 \n",
    "rating_mean = rating_matrix.mean(axis=1)\n"
   ]
  },
  {
   "cell_type": "code",
   "execution_count": 10,
   "metadata": {},
   "outputs": [
    {
     "data": {
      "text/plain": [
       "0.9526815048469761"
      ]
     },
     "execution_count": 10,
     "metadata": {},
     "output_type": "execute_result"
    }
   ],
   "source": [
    "# 사용자의 평가경향을 고려한 추천\n",
    "def ubcf_bias(user_id, movie_id):\n",
    "    import numpy as np\n",
    "    # 현 user의 평균 가져오기\n",
    "    user_mean = rating_mean[user_id]\n",
    "    if movie_id in rating_matrix:\n",
    "        # 현 user와 다른 사용자의 유사도 가져오기\n",
    "        sim_scores = user_similarity[user_id]\n",
    "        # 현 movie의 모든 rating 가져오기\n",
    "        movie_ratings = rating_matrix[movie_id]\n",
    "        # 모든 사용자의 rating 평균 가져오기\n",
    "        others_mean = rating_mean.copy()\n",
    "        # 현 movie에 대한 rating이 없는 user 삭제\n",
    "        none_rating_idx = movie_ratings[movie_ratings.isnull()].index\n",
    "        movie_ratings = movie_ratings.drop(none_rating_idx)\n",
    "        sim_scores = sim_scores.drop(none_rating_idx)\n",
    "        others_mean = others_mean.drop(none_rating_idx)\n",
    "        # 편차 예측치 계산\n",
    "        movie_ratings = movie_ratings - others_mean\n",
    "        prediction = np.dot(sim_scores, movie_ratings) / sim_scores.sum()\n",
    "        # 예측값에 현 사용자의 평균 더하기\n",
    "        prediction = prediction + user_mean\n",
    "    else:\n",
    "        prediction = user_mean\n",
    "    return prediction\n",
    "\n",
    "score(ubcf_bias)\n"
   ]
  },
  {
   "cell_type": "code",
   "execution_count": null,
   "metadata": {},
   "outputs": [],
   "source": [
    "score(ubcf_bias)"
   ]
  },
  {
   "cell_type": "code",
   "execution_count": 11,
   "metadata": {},
   "outputs": [
    {
     "data": {
      "text/plain": [
       "0.9526815048469761"
      ]
     },
     "execution_count": 11,
     "metadata": {},
     "output_type": "execute_result"
    }
   ],
   "source": [
    "# 사용자의 평가경향을 고려한 추천\n",
    "def ubcf_bias(user_id, movie_id):\n",
    "    import numpy as np\n",
    "    # 현 user의 평균 가져오기\n",
    "    user_mean = rating_mean[user_id]\n",
    "    if movie_id in rating_matrix:\n",
    "        # 현 user와 다른 사용자의 유사도 가져오기\n",
    "        sim_scores = user_similarity[user_id]\n",
    "        # 현 movie의 모든 rating 가져오기\n",
    "        movie_ratings = rating_matrix[movie_id]\n",
    "        # 모든 사용자의 rating 평균 가져오기\n",
    "        others_mean = rating_mean.copy()\n",
    "        # 현 movie에 대한 rating이 없는 user 삭제\n",
    "        none_rating_idx = movie_ratings[movie_ratings.isnull()].index\n",
    "        movie_ratings = movie_ratings.drop(none_rating_idx)\n",
    "        sim_scores = sim_scores.drop(none_rating_idx)\n",
    "        others_mean = others_mean.drop(none_rating_idx)\n",
    "        # 편차 예측치 계산\n",
    "        movie_ratings = movie_ratings - others_mean\n",
    "        prediction = np.dot(sim_scores, movie_ratings) / sim_scores.sum()\n",
    "        # 예측값에 현 사용자의 평균 더하기\n",
    "        prediction = prediction + user_mean\n",
    "    else:\n",
    "        prediction = user_mean\n",
    "    return prediction\n",
    "\n",
    "score(ubcf_bias)"
   ]
  },
  {
   "cell_type": "code",
   "execution_count": 12,
   "metadata": {},
   "outputs": [],
   "source": [
    "###################### 추천하기 ######################\n",
    "# 추천을 위한 데이터 읽기 (추천을 위해서는 전체 데이터를 읽어야 함)\n",
    "import pandas as pd\n",
    "r_cols = ['user_id', 'movie_id', 'rating', 'timestamp']\n",
    "ratings = pd.read_csv('C:/RecoSys/Data/u.data', names=r_cols,  sep='\\t',encoding='latin-1')\n",
    "ratings = ratings.drop('timestamp', axis=1)\n",
    "rating_matrix = ratings.pivot(values='rating', index='user_id', columns='movie_id')\n",
    "# 사용자별 평균 구하기\n",
    "rating_mean = rating_matrix.mean(axis=1)\n"
   ]
  },
  {
   "cell_type": "code",
   "execution_count": 14,
   "metadata": {},
   "outputs": [
    {
     "data": {
      "text/plain": [
       "movie_id\n",
       "814                         Great Day in Harlem, A (1994)\n",
       "1536                                 Aiqing wansui (1994)\n",
       "1467                 Saint of Fort Washington, The (1993)\n",
       "1500                            Santa with Muscles (1996)\n",
       "1599                        Someone Else's America (1995)\n",
       "1653    Entertaining Angels: The Dorothy Day Story (1996)\n",
       "1293                                      Star Kid (1997)\n",
       "1642                             Some Mother's Son (1996)\n",
       "851           Two or Three Things I Know About Her (1966)\n",
       "1398                                          Anna (1996)\n",
       "1449                               Pather Panchali (1955)\n",
       "1651                         Spanish Prisoner, The (1997)\n",
       "1650                              Butcher Boy, The (1998)\n",
       "1636                           Brothers in Trouble (1995)\n",
       "1645                              Butcher Boy, The (1998)\n",
       "1189                                   Prefontaine (1997)\n",
       "1625                                    Nightwatch (1997)\n",
       "119                Maya Lin: A Strong Clear Vision (1994)\n",
       "1235                          Big Bang Theory, The (1994)\n",
       "1122                       They Made Me a Criminal (1939)\n",
       "Name: title, dtype: object"
      ]
     },
     "execution_count": 14,
     "metadata": {},
     "output_type": "execute_result"
    }
   ],
   "source": [
    "# 영화 제목 가져오기\n",
    "i_cols = ['movie_id', 'title', 'release date', 'video release date', 'IMDB URL', \n",
    "          'unknown', 'Action', 'Adventure', 'Animation', 'Children\\'s', 'Comedy', \n",
    "          'Crime', 'Documentary', 'Drama', 'Fantasy', 'Film-Noir', 'Horror', \n",
    "          'Musical', 'Mystery', 'Romance', 'Sci-Fi', 'Thriller', 'War', 'Western']\n",
    "movies = pd.read_csv('C:/RecoSys/Data/u.item', sep='|', names=i_cols, encoding='latin-1')\n",
    "movies = movies[['movie_id', 'title']]\n",
    "movies = movies.set_index('movie_id')\n",
    "\n",
    "# Cosine similarity 계산\n",
    "from sklearn.metrics.pairwise import cosine_similarity\n",
    "matrix_dummy = rating_matrix.copy().fillna(0)\n",
    "user_similarity = cosine_similarity(matrix_dummy, matrix_dummy)\n",
    "user_similarity = pd.DataFrame(user_similarity, index=rating_matrix.index, columns=rating_matrix.index)\n",
    "\n",
    "# 추천하기\n",
    "def recommender(user, n_items=10):\n",
    "    # 현재 사용자의 모든 아이템에 대한 예상 평점 계산\n",
    "    predictions = []\n",
    "    rated_index = rating_matrix.loc[user][rating_matrix.loc[user] > 0].index    # 이미 평가한 영화 확인\n",
    "    items = rating_matrix.loc[user].drop(rated_index)\n",
    "    for item in items.index:\n",
    "        predictions.append(ubcf_bias(user, item))                               # 예상평점 계산\n",
    "    recommendations = pd.Series(data=predictions, index=items.index, dtype=float)\n",
    "    recommendations = recommendations.sort_values(ascending=False)[:n_items]    # 예상평점이 가장 높은 영화 선택\n",
    "    recommended_items = movies.loc[recommendations.index]['title']\n",
    "    return recommended_items\n",
    "\n",
    "# 영화 추천 함수 부르기\n",
    "recommender(2, 20)"
   ]
  },
  {
   "cell_type": "code",
   "execution_count": null,
   "metadata": {},
   "outputs": [],
   "source": []
  }
 ],
 "metadata": {
  "kernelspec": {
   "display_name": "myYonlu",
   "language": "python",
   "name": "python3"
  },
  "language_info": {
   "codemirror_mode": {
    "name": "ipython",
    "version": 3
   },
   "file_extension": ".py",
   "mimetype": "text/x-python",
   "name": "python",
   "nbconvert_exporter": "python",
   "pygments_lexer": "ipython3",
   "version": "3.8.5"
  },
  "orig_nbformat": 4
 },
 "nbformat": 4,
 "nbformat_minor": 2
}
