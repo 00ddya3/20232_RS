{
 "cells": [
  {
   "cell_type": "code",
   "execution_count": 1,
   "metadata": {},
   "outputs": [],
   "source": [
    "# Created or modified on Sep 2023\n",
    "# Author: 임일\n",
    "# EachMovie IBCF binary (precision, recall, F1 구하기)\n",
    "\n",
    "\n",
    "import numpy as np\n",
    "import pandas as pd\n",
    "\n",
    "# csv 파일에서 불러오기\n",
    "ratings = pd.read_csv('C:/RecoSys/Data/EM_ratings.csv', encoding='utf-8')"
   ]
  },
  {
   "cell_type": "code",
   "execution_count": 2,
   "metadata": {},
   "outputs": [],
   "source": [
    "# Rating 데이터를 test, train으로 나누고 train을 full matrix로 변환\n",
    "from sklearn.model_selection import train_test_split\n",
    "x = ratings.copy()\n",
    "y = ratings['user_id']\n",
    "x_train, x_test, y_train, y_test = train_test_split(x, y, test_size=0.25, stratify=y, random_state=12)\n",
    "rating_matrix_t = x_train.pivot(values='rating', index='movie_id', columns='user_id')\n",
    "x_test = x_test.set_index('user_id')\n",
    "x_train = x_train.set_index('user_id')"
   ]
  },
  {
   "cell_type": "code",
   "execution_count": 3,
   "metadata": {},
   "outputs": [],
   "source": [
    "def b_metrics1(target, pred):       # 실제, 예측 item을 리스트로 받아서 precision, recall, F1 계산하는 함수\n",
    "    n_target = len(target)          # item 개수 초기화\n",
    "    n_pred = len(pred)\n",
    "    n_correct = len(set(target).intersection(set(pred)))\n",
    "    try:                            # 에러(division by zero 등)가 발생하는 경우를 대비해서\n",
    "        precision = n_correct / n_pred\n",
    "        recall = n_correct / n_target\n",
    "        if (precision == 0 and recall == 0):  # Prevent 'division by zero'\n",
    "            f1 = 0.0\n",
    "        else:\n",
    "            f1 = 2 * (precision * recall) / (precision + recall)\n",
    "        return precision, recall, f1\n",
    "    except:\n",
    "        return 'error'"
   ]
  },
  {
   "cell_type": "code",
   "execution_count": 4,
   "metadata": {},
   "outputs": [],
   "source": [
    "def score_binary(model, n_of_recomm=10, ref_size=2):    #10개를 추천하겠다\n",
    "    precisions = []\n",
    "    recalls = []\n",
    "    F1s = []\n",
    "    for user in set(x_test.index):              # Test set에 있는 모든 사용자 각각에 대해서 실행\n",
    "        y_true = np.array(x_test.loc[user]['movie_id'])\n",
    "        #y_true = x_test.loc[user][x_test.loc[user]['rating'] >= cutline]['movie_id']    # cutline 이상의 rating만 정확한 것으로 간주\n",
    "        if n_of_recomm == 0:                    # 실제 평가한 영화수 같은 수만큼 추천 \n",
    "            n_of_recomm = len(y_true)\n",
    "        y_pred = np.array(model(user, n_of_recomm, ref_size))\n",
    "        precision = 0\n",
    "        recall = 0\n",
    "        F1 = 0\n",
    "        if (len(y_true) > 0 and len(y_pred) > 0):   # Check if y_true and y_pred > 0\n",
    "            precision, recall, F1 = b_metrics1(y_true, y_pred)\n",
    "        precisions.append(precision)\n",
    "        recalls.append(recall)\n",
    "        F1s.append(F1)\n",
    "    return np.mean(precisions), np.mean(recalls), np.mean(F1s)"
   ]
  },
  {
   "cell_type": "code",
   "execution_count": 5,
   "metadata": {},
   "outputs": [],
   "source": [
    "# 아이템 pair의 Cosine similarities 계산\n",
    "from sklearn.metrics.pairwise import cosine_similarity\n",
    "matrix_dummy = rating_matrix_t.copy().fillna(0)\n",
    "item_similarity = cosine_similarity(matrix_dummy, matrix_dummy)\n",
    "item_similarity = pd.DataFrame(item_similarity, index=rating_matrix_t.index, columns=rating_matrix_t.index)\n"
   ]
  },
  {
   "cell_type": "code",
   "execution_count": 6,
   "metadata": {},
   "outputs": [],
   "source": [
    "def ibcf_binary(user, n_of_recomm=10, ref_size=2):\n",
    "    rated_index = rating_matrix_t[user][rating_matrix_t[user] > 0].index            # 현 사용자가 rating한 item 저장\n",
    "    ref_group = rating_matrix_t[user].sort_values(ascending=False)[:ref_size]       # 현 사용자가 가장 높게 평가한 item (ref group) 추출\n",
    "    sim_scores = item_similarity[ref_group.index].mean(axis=1)                      # 이 item(ref group)들과 유사도 평균 계산\n",
    "    sim_scores = sim_scores.drop(rated_index)                                       # 이미 평가한 item은 제외\n",
    "    recommendations = sim_scores.sort_values(ascending=False)[:n_of_recomm].index   # 평균 유사도가 가장 높은 n개 item 추출\n",
    "    return recommendations"
   ]
  },
  {
   "cell_type": "code",
   "execution_count": 7,
   "metadata": {},
   "outputs": [
    {
     "data": {
      "text/plain": [
       "(0.018832183617736666, 0.10508829284056134, 0.03139892452947648)"
      ]
     },
     "execution_count": 7,
     "metadata": {},
     "output_type": "execute_result"
    }
   ],
   "source": [
    "# 정확도 계산\n",
    "score_binary(ibcf_binary, 22, 11)"
   ]
  },
  {
   "cell_type": "code",
   "execution_count": null,
   "metadata": {},
   "outputs": [],
   "source": []
  }
 ],
 "metadata": {
  "kernelspec": {
   "display_name": "myYonlu",
   "language": "python",
   "name": "python3"
  },
  "language_info": {
   "codemirror_mode": {
    "name": "ipython",
    "version": 3
   },
   "file_extension": ".py",
   "mimetype": "text/x-python",
   "name": "python",
   "nbconvert_exporter": "python",
   "pygments_lexer": "ipython3",
   "version": "3.8.5"
  },
  "orig_nbformat": 4
 },
 "nbformat": 4,
 "nbformat_minor": 2
}
