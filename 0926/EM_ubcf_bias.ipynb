{
 "cells": [
  {
   "cell_type": "code",
   "execution_count": 1,
   "metadata": {},
   "outputs": [],
   "source": [
    "# Created or modified on Sep 2023\n",
    "# Author: 임일\n",
    "# EachMovie Bias-from-mean + KNN CF\n",
    "\n",
    "import numpy as np\n",
    "import pandas as pd\n",
    "\n",
    "# csv 파일에서 불러오기\n",
    "ratings = pd.read_csv('C:/RecoSys/Data/EM_ratings.csv', encoding='utf-8')\n",
    "\n",
    "# Rating 데이터를 test, train으로 나누고 train을 full matrix로 변환\n",
    "from sklearn.model_selection import train_test_split\n",
    "x = ratings.copy()\n",
    "y = ratings['user_id']\n",
    "x_train, x_test, y_train, y_test = train_test_split(x, y, test_size=0.25, stratify=y, random_state=12)\n",
    "rating_matrix = x_train.pivot(values='rating', index='user_id', columns='movie_id')"
   ]
  },
  {
   "cell_type": "code",
   "execution_count": 2,
   "metadata": {},
   "outputs": [],
   "source": [
    "# RMSE 계산을 위한 함수\n",
    "def RMSE(y_true, y_pred):\n",
    "    return np.sqrt(np.mean((np.array(y_true) - np.array(y_pred))**2))\n",
    "\n",
    "def score(model, neighbor_size=30):\n",
    "    id_pairs = zip(x_test['user_id'], x_test['movie_id'])\n",
    "    y_pred = np.array([model(user, movie, neighbor_size) for (user, movie) in id_pairs])\n",
    "    y_true = np.array(x_test['rating'])\n",
    "    return RMSE(y_true, y_pred)"
   ]
  },
  {
   "cell_type": "code",
   "execution_count": 3,
   "metadata": {},
   "outputs": [],
   "source": [
    "# 모든 가능한 사용자 pair의 Cosine similarities 계산\n",
    "from sklearn.metrics.pairwise import cosine_similarity\n",
    "matrix_dummy = rating_matrix.copy().fillna(0)\n",
    "user_similarity = cosine_similarity(matrix_dummy, matrix_dummy)\n",
    "user_similarity = pd.DataFrame(user_similarity, index=rating_matrix.index, columns=rating_matrix.index)\n",
    "\n",
    "# 모든 user의 rating 평균 계산 \n",
    "rating_mean = rating_matrix.mean(axis=1)"
   ]
  },
  {
   "cell_type": "code",
   "execution_count": 5,
   "metadata": {},
   "outputs": [
    {
     "name": "stderr",
     "output_type": "stream",
     "text": [
      "C:\\Users\\Public\\Documents\\ESTsoft\\CreatorTemp\\ipykernel_27368\\3221709333.py:40: RuntimeWarning: invalid value encountered in scalar divide\n",
      "  prediction = np.dot(sim_scores, movie_ratings) / sim_scores.sum()\n"
     ]
    },
    {
     "data": {
      "text/plain": [
       "nan"
      ]
     },
     "execution_count": 5,
     "metadata": {},
     "output_type": "execute_result"
    }
   ],
   "source": [
    "# KNN + 사용자 평가 경향 추천\n",
    "def ubcf_bias_knn(user_id, movie_id, neighbor_size=20):\n",
    "    import numpy as np\n",
    "    # 현 user의 평균 가져오기\n",
    "    user_mean = rating_mean[user_id]\n",
    "    \n",
    "    if movie_id in rating_matrix:\n",
    "        # 현 user와 다른 사용자 간의 유사도 가져오기\n",
    "        sim_scores = user_similarity[user_id]\n",
    "        # 현 movie의 rating 가져오기\n",
    "        movie_ratings = rating_matrix[movie_id]\n",
    "        # 모든 사용자의 rating 평균 가져오기\n",
    "        others_mean = rating_mean.copy()\n",
    "        # 현 movie에 대한 rating이 없는 user 삭제\n",
    "        none_rating_idx = movie_ratings[movie_ratings.isnull()].index\n",
    "        movie_ratings = movie_ratings.drop(none_rating_idx)\n",
    "        sim_scores = sim_scores.drop(none_rating_idx)\n",
    "        others_mean = others_mean.drop(none_rating_idx)\n",
    "\n",
    "        if neighbor_size == 0:               # Neighbor size가 지정되지 않은 경우\n",
    "            # 편차로 예측치 계산\n",
    "            movie_ratings = movie_ratings - others_mean\n",
    "            prediction = np.dot(sim_scores, movie_ratings) / sim_scores.sum()\n",
    "            # 예측값에 현 사용자의 평균 더하기\n",
    "            prediction = prediction + user_mean\n",
    "\n",
    "        else:                                # Neighbor size가 지정된 경우\n",
    "            # 지정된 neighbor size 값과 해당 영화를 평가한 총사용자 수 중 작은 것으로 결정\n",
    "            neighbor_size = min(neighbor_size, len(sim_scores))\n",
    "            # array로 바꾸기 (argsort를 사용하기 위함)\n",
    "            sim_scores = np.array(sim_scores)\n",
    "            movie_ratings = np.array(movie_ratings)\n",
    "            others_mean = np.array(others_mean)\n",
    "            # 유사도를 순서대로 정렬\n",
    "            user_idx = np.argsort(sim_scores)\n",
    "            # 유사도와 rating을 neighbor size만큼 받기\n",
    "            sim_scores = sim_scores[user_idx][-neighbor_size:]\n",
    "            movie_ratings = movie_ratings[user_idx][-neighbor_size:]\n",
    "            # 사용자의 mean을 neighbor size만큼 받기\n",
    "            others_mean = others_mean[user_idx][-neighbor_size:]\n",
    "            # 편차로 예측치 계산\n",
    "            movie_ratings = movie_ratings - others_mean\n",
    "            prediction = np.dot(sim_scores, movie_ratings) / sim_scores.sum()\n",
    "            # 예측값에 현 사용자의 평균 더하기\n",
    "            prediction = prediction + user_mean\n",
    "    else:\n",
    "        prediction = user_mean\n",
    "    return prediction\n",
    "\n",
    "score(ubcf_bias_knn, 30)"
   ]
  },
  {
   "cell_type": "code",
   "execution_count": null,
   "metadata": {},
   "outputs": [],
   "source": []
  }
 ],
 "metadata": {
  "kernelspec": {
   "display_name": "myYonlu",
   "language": "python",
   "name": "python3"
  },
  "language_info": {
   "codemirror_mode": {
    "name": "ipython",
    "version": 3
   },
   "file_extension": ".py",
   "mimetype": "text/x-python",
   "name": "python",
   "nbconvert_exporter": "python",
   "pygments_lexer": "ipython3",
   "version": "3.8.5"
  },
  "orig_nbformat": 4
 },
 "nbformat": 4,
 "nbformat_minor": 2
}
