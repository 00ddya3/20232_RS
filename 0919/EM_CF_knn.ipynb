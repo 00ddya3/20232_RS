{
 "cells": [
  {
   "cell_type": "code",
   "execution_count": 1,
   "metadata": {},
   "outputs": [],
   "source": [
    "# Created or modified on Sep 2022\n",
    "# author: 임일\n",
    "# KNN CF\n",
    "\n",
    "import numpy as np\n",
    "import pandas as pd"
   ]
  },
  {
   "cell_type": "code",
   "execution_count": 2,
   "metadata": {},
   "outputs": [],
   "source": [
    "# csv 파일에서 불러오기\n",
    "ratings = pd.read_csv('C:/RecoSys/Data/EM_ratings.csv', encoding='utf-8')"
   ]
  },
  {
   "cell_type": "code",
   "execution_count": 3,
   "metadata": {},
   "outputs": [],
   "source": [
    "# Rating 데이터를 test, train으로 나누고 train을 full matrix로 변환\n",
    "from sklearn.model_selection import train_test_split\n",
    "x = ratings.copy()\n",
    "y = ratings['user_id']\n",
    "x_train, x_test, y_train, y_test = train_test_split(x, y, test_size=0.25, stratify=y, random_state=12)\n",
    "rating_matrix = x_train.pivot(values='rating', index='user_id', columns='movie_id')"
   ]
  },
  {
   "cell_type": "code",
   "execution_count": 4,
   "metadata": {},
   "outputs": [],
   "source": [
    "# Train set의 모든 사용자 pair의 Cosine similarities 계산\n",
    "from sklearn.metrics.pairwise import cosine_similarity\n",
    "matrix_dummy = rating_matrix.copy().fillna(0)\n",
    "user_similarity = cosine_similarity(matrix_dummy, matrix_dummy)\n",
    "user_similarity = pd.DataFrame(user_similarity, index=rating_matrix.index, columns=rating_matrix.index)\n"
   ]
  },
  {
   "cell_type": "code",
   "execution_count": 5,
   "metadata": {},
   "outputs": [],
   "source": [
    "# RMSE 계산을 위한 함수\n",
    "def RMSE(y_true, y_pred):\n",
    "    import numpy as np\n",
    "    return np.sqrt(np.mean((np.array(y_true) - np.array(y_pred))**2))\n",
    "\n",
    "def score(model, k=20):\n",
    "    id_pairs = zip(x_test['user_id'], x_test['movie_id'])\n",
    "    y_pred = np.array([model(user, movie, k) for (user, movie) in id_pairs])\n",
    "    y_true = np.array(x_test['rating'])\n",
    "    return RMSE(y_true, y_pred)"
   ]
  },
  {
   "cell_type": "code",
   "execution_count": 15,
   "metadata": {},
   "outputs": [
    {
     "data": {
      "text/plain": [
       "0.942818894526895"
      ]
     },
     "execution_count": 15,
     "metadata": {},
     "output_type": "execute_result"
    }
   ],
   "source": [
    "# Neighbor size를 고려하는 추천\n",
    "def cf_knn(user_id, movie_id, neighbor_size=20):\n",
    "\n",
    "    mean_rating = 3.0\n",
    "\n",
    "    if movie_id in rating_matrix:\n",
    "\n",
    "        # 현재 사용자와 다른 사용자 간의 similarity 가져오기\n",
    "        sim_scores = user_similarity[user_id]\n",
    "        # 현재 영화에 대한 모든 사용자의 rating값 가져오기\n",
    "        movie_ratings = rating_matrix[movie_id]\n",
    "        # 현재 영화를 평가하지 않은 사용자의 index 가져오기\n",
    "        none_rating_idx = movie_ratings[movie_ratings.isnull()].index\n",
    "        # 현재 영화를 평가하지 않은 사용자의 rating (null) 제거\n",
    "        movie_ratings = movie_ratings.drop(none_rating_idx)\n",
    "        # 현재 영화를 평가하지 않은 사용자의 similarity값 제거\n",
    "        sim_scores = sim_scores.drop(none_rating_idx)\n",
    "\n",
    "        if neighbor_size == 0:               # Neighbor size가 지정되지 않은 경우\n",
    "            # 현재 영화를 평가한 모든 사용자의 가중평균값 구하기\n",
    "            mean_rating = np.dot(sim_scores, movie_ratings) / sim_scores.sum()\n",
    "        else:                                # Neighbor size가 지정된 경우\n",
    "            # 지정된 neighbor size 값과 해당 영화를 평가한 총사용자 수 중 작은 것으로 결정\n",
    "            neighbor_size = min(neighbor_size, len(sim_scores))\n",
    "            # array로 바꾸기 (argsort를 사용하기 위함)\n",
    "            sim_scores = np.array(sim_scores)\n",
    "            movie_ratings = np.array(movie_ratings)\n",
    "            # 유사도를 순서대로 정렬\n",
    "            user_idx = np.argsort(sim_scores)\n",
    "            # 유사도를 neighbor size만큼 받기\n",
    "            # 오름차순으로 정렬했기 때문에 -@ 해야 유사도가 큰 사람을 고를 수 있음\n",
    "            sim_scores = sim_scores[user_idx][-neighbor_size:]  \n",
    "            # 영화 rating을 neighbor size만큼 받기\n",
    "            movie_ratings = movie_ratings[user_idx][-neighbor_size:]\n",
    "            # 최종 예측값 계산 \n",
    "            if sim_scores.sum() > 0 :\n",
    "                mean_rating = np.dot(sim_scores, movie_ratings) / sim_scores.sum()\n",
    "\n",
    "    return mean_rating\n",
    "\n",
    "score(cf_knn, 60)"
   ]
  },
  {
   "cell_type": "markdown",
   "metadata": {},
   "source": [
    "#### 추천하기"
   ]
  },
  {
   "cell_type": "code",
   "execution_count": 11,
   "metadata": {},
   "outputs": [],
   "source": [
    "# 추천을 위한 데이터 읽기 (추천을 위해서는 전체 데이터를 읽어야 함)\n",
    "ratings = pd.read_csv('C:/RecoSys/Data/EM_ratings.csv', encoding='utf-8')\n",
    "rating_matrix = ratings.pivot(values='rating', index='user_id', columns='movie_id')\n",
    "\n",
    "movies = pd.read_csv('C:/RecoSys/Data/movie.csv', encoding='utf-8')\n",
    "movies = movies[['ID', 'Name']]\n",
    "movies.columns = ['movie_id', 'title']\n",
    "movies = movies.set_index('movie_id')"
   ]
  },
  {
   "cell_type": "code",
   "execution_count": 12,
   "metadata": {},
   "outputs": [],
   "source": [
    "# Cosine similarity 계산\n",
    "from sklearn.metrics.pairwise import cosine_similarity\n",
    "matrix_dummy = rating_matrix.copy().fillna(0)\n",
    "user_similarity = cosine_similarity(matrix_dummy, matrix_dummy)\n",
    "user_similarity = pd.DataFrame(user_similarity, index=rating_matrix.index, columns=rating_matrix.index)"
   ]
  },
  {
   "cell_type": "code",
   "execution_count": 13,
   "metadata": {},
   "outputs": [],
   "source": [
    "# 추천하기\n",
    "def recommender(user, n_items=10, neighbor_size=20):\n",
    "    # 현재 사용자의 모든 아이템에 대한 예상 평점 계산\n",
    "    predictions = []\n",
    "    rated_index = rating_matrix.loc[user][rating_matrix.loc[user] > 0].index    # 이미 평가한 영화 확인\n",
    "    items = rating_matrix.loc[user].drop(rated_index)\n",
    "    for item in items.index:\n",
    "        predictions.append(cf_knn(user, item, neighbor_size))                   # 예상평점 계산\n",
    "    recommendations = pd.Series(data=predictions, index=items.index, dtype=float)\n",
    "    recommendations = recommendations.sort_values(ascending=False)[:n_items]    # 예상평점이 가장 높은 영화 선택\n",
    "    recommended_items = movies.loc[recommendations.index]['title']\n",
    "    return recommended_items"
   ]
  },
  {
   "cell_type": "code",
   "execution_count": 16,
   "metadata": {},
   "outputs": [
    {
     "data": {
      "text/plain": [
       "movie_id\n",
       "1648                              The Game (1997)\n",
       "668     Pather Panchali (Song of the Road) (1955)\n",
       "142                                Shadows (1988)\n",
       "1351                               Blood and Wine\n",
       "1567            The Last Time I Committed Suicide\n",
       "1572                          Contempt (Le M?ris)\n",
       "1123                          A Perfect Candidate\n",
       "1109    Charms Zwischenfaelle (Charm's Incidents)\n",
       "526              Savage Nights (Les Nuits fauves)\n",
       "947                         My Man Godfrey (1936)\n",
       "Name: title, dtype: object"
      ]
     },
     "execution_count": 16,
     "metadata": {},
     "output_type": "execute_result"
    }
   ],
   "source": [
    "# 영화 추천 함수 부르기\n",
    "recommender(5, 10, 60)"
   ]
  },
  {
   "cell_type": "markdown",
   "metadata": {},
   "source": [
    "#### optimal size 구하기"
   ]
  },
  {
   "cell_type": "code",
   "execution_count": 19,
   "metadata": {},
   "outputs": [
    {
     "name": "stdout",
     "output_type": "stream",
     "text": [
      "[0.8774748095492629, 0.9077764781324855, 0.9281268805388616, 0.942818894526895, 0.9536426305780575, 0.9620266151713536, 0.968925279251072]\n"
     ]
    },
    {
     "data": {
      "image/png": "[encoded data removed]",
      "text/plain": [
       "<Figure size 640x480 with 1 Axes>"
      ]
     },
     "metadata": {},
     "output_type": "display_data"
    }
   ],
   "source": [
    "RMSE_by_K = []\n",
    "Neighbor_size = []\n",
    "for K in range(30, 100, 10):\n",
    "    RMSE_by_K.append(score(cf_knn, K))\n",
    "    Neighbor_size.append(K)\n",
    "print(RMSE_by_K)\n",
    "\n",
    "# Plot RMSE\n",
    "import matplotlib.pyplot as plt\n",
    "plt.plot(Neighbor_size, RMSE_by_K)\n",
    "plt.ylim(0.85, 1.0)\n",
    "plt.xlabel('Neighbor Size')\n",
    "plt.ylabel('RMSE')\n",
    "plt.show()"
   ]
  },
  {
   "cell_type": "code",
   "execution_count": null,
   "metadata": {},
   "outputs": [],
   "source": []
  }
 ],
 "metadata": {
  "kernelspec": {
   "display_name": "myYonlu",
   "language": "python",
   "name": "python3"
  },
  "language_info": {
   "codemirror_mode": {
    "name": "ipython",
    "version": 3
   },
   "file_extension": ".py",
   "mimetype": "text/x-python",
   "name": "python",
   "nbconvert_exporter": "python",
   "pygments_lexer": "ipython3",
   "version": "3.8.18"
  },
  "orig_nbformat": 4
 },
 "nbformat": 4,
 "nbformat_minor": 2
}
