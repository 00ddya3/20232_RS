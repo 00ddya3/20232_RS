{
 "cells": [
  {
   "cell_type": "code",
   "execution_count": 1,
   "metadata": {},
   "outputs": [],
   "source": [
    "# Created or modified on Sep 2023\n",
    "# author: 임일\n",
    "# Demographic 기반 추천\n",
    "\n",
    "import numpy as np\n",
    "import pandas as pd"
   ]
  },
  {
   "cell_type": "code",
   "execution_count": 2,
   "metadata": {},
   "outputs": [],
   "source": [
    "# Load the u.user file into a dataframe\n",
    "u_cols = ['user_id', 'age', 'sex', 'occupation', 'zip_code']\n",
    "users = pd.read_csv('C:/RecoSys/Data/u.user', sep='|', names=u_cols, encoding='latin-1')\n",
    "\n",
    "# Load the u.items file into a dataframe\n",
    "i_cols = ['movie_id', 'title', 'release date', 'video release date', 'IMDB URL', 'unknown', \n",
    "          'Action', 'Adventure', 'Animation', 'Children\\'s', 'Comedy', 'Crime', 'Documentary', \n",
    "          'Drama', 'Fantasy', 'Film-Noir', 'Horror', 'Musical', 'Mystery', 'Romance', 'Sci-Fi', \n",
    "          'Thriller', 'War', 'Western']\n",
    "movies = pd.read_csv('C:/RecoSys/Data/u.item', sep='|', names=i_cols, encoding='latin-1')\n",
    "\n",
    "# movie ID와 title을 제외한 컬럼 지우기\n",
    "movies = movies[['movie_id', 'title']]"
   ]
  },
  {
   "cell_type": "code",
   "execution_count": 3,
   "metadata": {},
   "outputs": [],
   "source": [
    "# Load the u.data file into a dataframe\n",
    "r_cols = ['user_id', 'movie_id', 'rating', 'timestamp']\n",
    "ratings = pd.read_csv('C:/RecoSys/Data/u.data', sep='\\t', names=r_cols, encoding='latin-1')\n",
    "\n",
    "# timestamp 지우기\n",
    "ratings = ratings.drop('timestamp', axis=1)"
   ]
  },
  {
   "cell_type": "code",
   "execution_count": 4,
   "metadata": {},
   "outputs": [],
   "source": [
    "# Import the train_test_split function\n",
    "from sklearn.model_selection import train_test_split\n",
    "x = ratings.copy()\n",
    "y = ratings['user_id']\n",
    "\n",
    "# Train/Test 데이터 나누기 (stratified 방식)\n",
    "# stratified: y를 기준으로 train, test 중 한 쪽으로 몰리지 않도록 함\n",
    "x_train, x_test, y_train, y_test = train_test_split(x, y, test_size=0.25, stratify=y, random_state=12)"
   ]
  },
  {
   "cell_type": "code",
   "execution_count": 5,
   "metadata": {},
   "outputs": [],
   "source": [
    "# RMSE계산 함수\n",
    "def RMSE(y_true, y_pred):\n",
    "    import numpy as np\n",
    "    return np.sqrt(np.mean((np.array(y_true) - np.array(y_pred))**2))\n",
    "\n",
    "# Baseline model (Best-seller 모델, 평균이 없을 경우에는 3)\n",
    "def baseline(user_id, movie_id):\n",
    "    try:\n",
    "        rating = train_mean[movie_id]\n",
    "    except:\n",
    "        rating = 3.0\n",
    "    return rating\n",
    "\n",
    "# 주어진 추천 알고리즘(model)의 RMSE를 계산하는 함수\n",
    "def score(model):\n",
    "    # Construct a list of user-movie tuples from the testing dataset\n",
    "    id_pairs = zip(x_test['user_id'], x_test['movie_id'])\n",
    "    # Predict the rating for every user-movie tuple\n",
    "    y_pred = np.array([model(user, movie) for (user, movie) in id_pairs])\n",
    "    # Extract the actual ratings given by the users in the test data\n",
    "    y_true = np.array(x_test['rating'])\n",
    "    # Return the final RMSE score\n",
    "    return RMSE(y_true, y_pred)"
   ]
  },
  {
   "cell_type": "code",
   "execution_count": 6,
   "metadata": {},
   "outputs": [
    {
     "data": {
      "text/plain": [
       "1.0240248715236162"
      ]
     },
     "execution_count": 6,
     "metadata": {},
     "output_type": "execute_result"
    }
   ],
   "source": [
    "train_mean = x_train.groupby(['movie_id'])['rating'].mean()\n",
    "score(baseline)"
   ]
  },
  {
   "cell_type": "code",
   "execution_count": 7,
   "metadata": {},
   "outputs": [
    {
     "data": {
      "text/html": [
       "<div>\n",
       "<style scoped>\n",
       "    .dataframe tbody tr th:only-of-type {\n",
       "        vertical-align: middle;\n",
       "    }\n",
       "\n",
       "    .dataframe tbody tr th {\n",
       "        vertical-align: top;\n",
       "    }\n",
       "\n",
       "    .dataframe thead th {\n",
       "        text-align: right;\n",
       "    }\n",
       "</style>\n",
       "<table border=\"1\" class=\"dataframe\">\n",
       "  <thead>\n",
       "    <tr style=\"text-align: right;\">\n",
       "      <th></th>\n",
       "      <th>user_id</th>\n",
       "      <th>movie_id</th>\n",
       "      <th>rating</th>\n",
       "      <th>age</th>\n",
       "      <th>sex</th>\n",
       "      <th>occupation</th>\n",
       "      <th>zip_code</th>\n",
       "    </tr>\n",
       "  </thead>\n",
       "  <tbody>\n",
       "    <tr>\n",
       "      <th>0</th>\n",
       "      <td>788</td>\n",
       "      <td>720</td>\n",
       "      <td>3</td>\n",
       "      <td>51</td>\n",
       "      <td>M</td>\n",
       "      <td>administrator</td>\n",
       "      <td>05779</td>\n",
       "    </tr>\n",
       "    <tr>\n",
       "      <th>1</th>\n",
       "      <td>788</td>\n",
       "      <td>550</td>\n",
       "      <td>3</td>\n",
       "      <td>51</td>\n",
       "      <td>M</td>\n",
       "      <td>administrator</td>\n",
       "      <td>05779</td>\n",
       "    </tr>\n",
       "    <tr>\n",
       "      <th>2</th>\n",
       "      <td>788</td>\n",
       "      <td>658</td>\n",
       "      <td>3</td>\n",
       "      <td>51</td>\n",
       "      <td>M</td>\n",
       "      <td>administrator</td>\n",
       "      <td>05779</td>\n",
       "    </tr>\n",
       "    <tr>\n",
       "      <th>3</th>\n",
       "      <td>788</td>\n",
       "      <td>586</td>\n",
       "      <td>2</td>\n",
       "      <td>51</td>\n",
       "      <td>M</td>\n",
       "      <td>administrator</td>\n",
       "      <td>05779</td>\n",
       "    </tr>\n",
       "    <tr>\n",
       "      <th>4</th>\n",
       "      <td>788</td>\n",
       "      <td>739</td>\n",
       "      <td>2</td>\n",
       "      <td>51</td>\n",
       "      <td>M</td>\n",
       "      <td>administrator</td>\n",
       "      <td>05779</td>\n",
       "    </tr>\n",
       "  </tbody>\n",
       "</table>\n",
       "</div>"
      ],
      "text/plain": [
       "   user_id  movie_id  rating  age sex     occupation zip_code\n",
       "0      788       720       3   51   M  administrator    05779\n",
       "1      788       550       3   51   M  administrator    05779\n",
       "2      788       658       3   51   M  administrator    05779\n",
       "3      788       586       2   51   M  administrator    05779\n",
       "4      788       739       2   51   M  administrator    05779"
      ]
     },
     "execution_count": 7,
     "metadata": {},
     "output_type": "execute_result"
    }
   ],
   "source": [
    "# training set과 사용자 table을 결합(merge)\n",
    "merged_data = pd.merge(x_train, users)\n",
    "merged_data.head()\n"
   ]
  },
  {
   "cell_type": "markdown",
   "metadata": {},
   "source": [
    "#### Gender"
   ]
  },
  {
   "cell_type": "code",
   "execution_count": 8,
   "metadata": {},
   "outputs": [
    {
     "data": {
      "text/plain": [
       "1.031139101440836"
      ]
     },
     "execution_count": 8,
     "metadata": {},
     "output_type": "execute_result"
    }
   ],
   "source": [
    "######Gender######\n",
    "\n",
    "# 영화 별 gender별 평점 평균 계산\n",
    "gender_mean = merged_data[['movie_id', 'sex', 'rating']].groupby(['movie_id', 'sex'])['rating'].mean()\n",
    "\n",
    "# user_id를 index로 설정\n",
    "users = users.set_index('user_id')\n",
    "\n",
    "# Gender기준 추천\n",
    "def cf_gender(user_id, movie_id):\n",
    "    # movie_id가 rating_matrix에 존재하는지 확인\n",
    "    if movie_id in gender_mean:\n",
    "        # gender 가져옴\n",
    "        gender = users.loc[user_id]['sex']\n",
    "\n",
    "        # 해당 영화에 해당 gender의 평균값이 존재하는지 확인\n",
    "        if gender in gender_mean[movie_id]:\n",
    "            # 해당 영화의 해당 gender의 평균값을 예측값으로 함\n",
    "            gender_rating = gender_mean[movie_id][gender]\n",
    "        else:\n",
    "            gender_rating = 3.0\n",
    "\n",
    "    else: # movie_id가 rating_matrix에 없으면 기본값 3.0을 예측값으로 함\n",
    "        gender_rating = 3.0\n",
    "        \n",
    "    return gender_rating\n",
    "\n",
    "score(cf_gender)"
   ]
  },
  {
   "cell_type": "markdown",
   "metadata": {},
   "source": [
    "#### occupation"
   ]
  },
  {
   "cell_type": "code",
   "execution_count": 9,
   "metadata": {},
   "outputs": [
    {
     "data": {
      "text/plain": [
       "1.1180328646005189"
      ]
     },
     "execution_count": 9,
     "metadata": {},
     "output_type": "execute_result"
    }
   ],
   "source": [
    "######Occupation######\n",
    "\n",
    "occupation_mean = merged_data[['movie_id', 'occupation', 'rating']].groupby(['movie_id', 'occupation'])['rating'].mean()\n",
    "\n",
    "def cf_occupation(user_id, movie_id):\n",
    "    if movie_id in occupation_mean:\n",
    "        occupation = users.loc[user_id]['occupation']\n",
    "        if occupation in occupation_mean[movie_id]:\n",
    "            occupation_rating = occupation_mean[movie_id][occupation]\n",
    "        else:\n",
    "            occupation_rating = 3.0\n",
    "    else:\n",
    "        occupation_rating = 3.0\n",
    "    return occupation_rating\n",
    "\n",
    "score(cf_occupation)"
   ]
  },
  {
   "cell_type": "code",
   "execution_count": 11,
   "metadata": {},
   "outputs": [
    {
     "data": {
      "text/plain": [
       "movie_id  occupation   \n",
       "1         administrator    4.083333\n",
       "          artist           4.400000\n",
       "          doctor           3.500000\n",
       "          educator         3.709677\n",
       "          engineer         3.939394\n",
       "Name: rating, dtype: float64"
      ]
     },
     "execution_count": 11,
     "metadata": {},
     "output_type": "execute_result"
    }
   ],
   "source": [
    "occupation_mean.head()"
   ]
  },
  {
   "cell_type": "code",
   "execution_count": null,
   "metadata": {},
   "outputs": [],
   "source": []
  }
 ],
 "metadata": {
  "kernelspec": {
   "display_name": "myYonlu",
   "language": "python",
   "name": "python3"
  },
  "language_info": {
   "codemirror_mode": {
    "name": "ipython",
    "version": 3
   },
   "file_extension": ".py",
   "mimetype": "text/x-python",
   "name": "python",
   "nbconvert_exporter": "python",
   "pygments_lexer": "ipython3",
   "version": "3.8.18"
  },
  "orig_nbformat": 4
 },
 "nbformat": 4,
 "nbformat_minor": 2
}
